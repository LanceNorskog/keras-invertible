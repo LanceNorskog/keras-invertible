{
  "nbformat": 4,
  "nbformat_minor": 0,
  "metadata": {
    "colab": {
      "name": "Invertible Preso #1- Invertible Layers (Beginning).ipynb",
      "provenance": [],
      "collapsed_sections": [],
      "toc_visible": true,
      "machine_shape": "hm"
    },
    "kernelspec": {
      "name": "python3",
      "display_name": "Python 3"
    },
    "language_info": {
      "name": "python"
    },
    "accelerator": "GPU",
    "gpuClass": "standard"
  },
  "cells": [
    {
      "cell_type": "markdown",
      "source": [
        "# Invertible Deep Learning\n",
        "Let's talk about Invertible Deep Learning.\n",
        "\n",
        "Deep Learning models are constructed as Directed Acyclic Graphs of simple mathematical transformations. Most of these transformations lose information, but some do not. Also, some transformations lose information but an inverted form can still be reverse-engineered.\n",
        "\n",
        "This notebook walks through the basics of these invertible deep learning layers, starting with the simplest: activation functions."
      ],
      "metadata": {
        "id": "DbpomGgdx3D2"
      }
    },
    {
      "cell_type": "code",
      "source": [
        "import tensorflow as tf\n",
        "import numpy as np\n",
        "import matplotlib.pyplot as plt"
      ],
      "metadata": {
        "id": "qoG6mTfDzZ-h"
      },
      "execution_count": null,
      "outputs": []
    },
    {
      "cell_type": "code",
      "source": [
        "def get_layer(model, name):\n",
        "    for layer in model.layers:\n",
        "        if layer.name == name:\n",
        "            return layer\n",
        "\n",
        "def create_model(shape, layer):\n",
        "    model = tf.keras.Sequential()\n",
        "    model.add(tf.keras.Input(shape=shape))\n",
        "    model.add(layer)\n",
        "    model.compile(optimizer='sgd', loss='mse')\n",
        "    return model\n",
        "\n",
        "def delta_check(data1, data2, epsilon=1e-2):\n",
        "    delta = np.abs(data1 - data2)\n",
        "    return np.max(delta) < epsilon"
      ],
      "metadata": {
        "id": "TAm3MnyhzkLb"
      },
      "execution_count": null,
      "outputs": []
    },
    {
      "cell_type": "markdown",
      "source": [
        "## Invertible Activation Functions\n",
        "\n",
        "For an activation function to be invertible, it must be a \"bijective function\". This means that every input value has a unique output value, so that the inverse function can always re-create the input value. For a continuously valued function to be bijective, it must be monotonic (continuously increasing or decreasing). Of the various layers available for our use in Keras, only one is by nature monotonic: the LeakyReLU activation function Layer ([https://keras.io/api/layers/activation_layers/leaky_relu/])."
      ],
      "metadata": {
        "id": "Mz09q3MWy1nl"
      }
    },
    {
      "cell_type": "code",
      "source": [
        "leaky = 0.3\n",
        "forward_leaky_relu = create_model((3,), tf.keras.layers.LeakyReLU(alpha=leaky))\n",
        "inverted_leaky_relu = create_model((3,), tf.keras.layers.LeakyReLU(alpha=1/leaky))\n",
        "\n",
        "data = np.array([[-1, 0, 1]])\n",
        "forward = forward_leaky_relu.predict(data)\n",
        "print(forward)\n",
        "inverted = inverted_leaky_relu.predict(forward)\n",
        "print(inverted)\n",
        "print(delta_check(data, inverted))"
      ],
      "metadata": {
        "colab": {
          "base_uri": "https://localhost:8080/"
        },
        "id": "IQJGGEsi0yQQ",
        "outputId": "e293a1d7-ca5a-4de4-cbb1-7fdb4bcb2a1d"
      },
      "execution_count": null,
      "outputs": [
        {
          "output_type": "stream",
          "name": "stdout",
          "text": [
            "[[-0.3  0.   1. ]]\n",
            "[[-1.  0.  1.]]\n",
            "True\n"
          ]
        }
      ]
    },
    {
      "cell_type": "markdown",
      "source": [
        "We have illustrated that the LeakyReLU function can be fully inverted. Another variant of this is the Parametric ReLU, which supplies a trainable vector of alpha, one for each hidden neuron. This vector is allowed to include negative numbers, which means that Parametric ReLU as specified in the original paper is not monotonic. However, it is possible to modify the algorithm to push all of the alphas into the positive realm, making the function monotonic and invertible. Move this to the \"advanced\" page."
      ],
      "metadata": {
        "id": "uNnrad418iGE"
      }
    },
    {
      "cell_type": "markdown",
      "source": [
        "## Invertible Dense Layers\n",
        "\n",
        "Matrix transformation layers, along with activation functions, are the most common deep learning tools. Matrices are not natively invertible, but there is a linear algebra tool called the Moore–Penrose inverse which can calculate the inverted version of (almost) any matrix we will encounter in deep learning."
      ],
      "metadata": {
        "id": "9BT2HVwH5fxM"
      }
    },
    {
      "cell_type": "code",
      "source": [
        "forward_dense = create_model((3), tf.keras.layers.Dense(3, use_bias=False, name='a'))\n",
        "inverted_dense = create_model((3), tf.keras.layers.Dense(3, use_bias=False, name='inv_a'))\n"
      ],
      "metadata": {
        "id": "bVek4NVp6Q9z"
      },
      "execution_count": null,
      "outputs": []
    },
    {
      "cell_type": "markdown",
      "source": [
        "To demonstrate the Moore-Penrose psuedo-inverse, we will fetch the randomly-initialized weights of the first layer, calculate the pseudo-inverse of those weights, and substitute the pseudo-inverse as the weights of the second layer."
      ],
      "metadata": {
        "id": "0bfivvwe6mzt"
      }
    },
    {
      "cell_type": "code",
      "source": [
        "forward_weights = get_layer(forward_dense, 'a').get_weights()\n",
        "inverted_weights = np.linalg.pinv(forward_weights)\n",
        "inverted_dense.set_weights(inverted_weights)"
      ],
      "metadata": {
        "id": "FqoqyTnb7Obp"
      },
      "execution_count": null,
      "outputs": []
    },
    {
      "cell_type": "markdown",
      "source": [
        "Now, we predict a projected vector with the first model, and project the prediction back to the original vector space (approximately) with the second model."
      ],
      "metadata": {
        "id": "FT70TdJA7FZJ"
      }
    },
    {
      "cell_type": "code",
      "source": [
        "data = np.array([[-1, 0, 1]])\n",
        "forward = forward_dense.predict(data)\n",
        "print(forward)\n",
        "inverted = inverted_dense.predict(forward)\n",
        "print(inverted)\n",
        "print(delta_check(data, inverted))"
      ],
      "metadata": {
        "colab": {
          "base_uri": "https://localhost:8080/"
        },
        "id": "EDOYQsL-6ng8",
        "outputId": "8894593e-df3f-41a5-9e02-6bbc1c40f8e9"
      },
      "execution_count": null,
      "outputs": [
        {
          "output_type": "stream",
          "name": "stdout",
          "text": [
            "[[ 1.3726411   0.37996507 -1.234762  ]]\n",
            "[[-9.9999994e-01  1.6604527e-07  9.9999994e-01]]\n",
            "True\n"
          ]
        }
      ]
    },
    {
      "cell_type": "markdown",
      "source": [
        "Note that the final result here is approximately the same as the input, but not exactly the same. This illustrates that a trained Dense layer can be inverted using the Moore-Penrose pseudo-inverse algorithm."
      ],
      "metadata": {
        "id": "IaB1w7lo7WSB"
      }
    },
    {
      "cell_type": "markdown",
      "source": [
        "## Full version of Invertible Dense layer"
      ],
      "metadata": {
        "id": "SKEUrAo-zBSu"
      }
    },
    {
      "cell_type": "markdown",
      "source": [
        "Of course, the Dense (fully-connected) layer includes a trained \"bias\" vector, and this vector must be included in any strategy to invert a trained Dense layer. The Dense layer has two stages, with the first being the projective matrix (whose weights we altered above) and then the bias stage.\n",
        "\n",
        "We cannot the re-order of these stages in the existing Dense layer via the above rewriting strategy, so we will use a Lambda layer. Instead of using the Numpy linear algebra package, we will use the Tensorflow implementation of Moore-Penrose pseudo-inverse transform.\n",
        "\n",
        "The order of the two stages in an inverted Dense layer is to first subtract the forward layer's bias vector from the input, then project the difference through the Moore-Penrose pseudo-inverse of the forward layer's projection matrix. "
      ],
      "metadata": {
        "id": "AkxbE9TC9BXc"
      }
    },
    {
      "cell_type": "code",
      "execution_count": null,
      "metadata": {
        "colab": {
          "base_uri": "https://localhost:8080/"
        },
        "id": "NokF98E8xwPx",
        "outputId": "74dcec6b-3268-4e79-db07-c79da781c8c1"
      },
      "outputs": [
        {
          "output_type": "stream",
          "name": "stdout",
          "text": [
            "WARNING:tensorflow:\n",
            "The following Variables were used a Lambda layer's call (lambda), but\n",
            "are not present in its tracked objects:\n",
            "  <tf.Variable 'a/kernel:0' shape=(3, 3) dtype=float32>\n",
            "  <tf.Variable 'a/bias:0' shape=(3,) dtype=float32>\n",
            "It is possible that this is intended behavior, but it is more likely\n",
            "an omission. This is a strong indication that this layer should be\n",
            "formulated as a subclassed Layer rather than a Lambda layer.\n"
          ]
        }
      ],
      "source": [
        "forward_dense = create_model((3), tf.keras.layers.Dense(3, use_bias=True, name='a'))\n",
        "forward_layer = get_layer(forward_dense, 'a')\n",
        "inverted_layer = tf.keras.layers.Lambda(lambda x: tf.matmul(x - forward_layer.bias, tf.linalg.pinv(forward_layer.kernel)))\n",
        "inverted_dense = create_model((3), inverted_layer)\n"
      ]
    },
    {
      "cell_type": "markdown",
      "source": [
        "As before, we predict a projected vector with the first model, and project the prediction back to the original vector space (approximately) with the second model."
      ],
      "metadata": {
        "id": "AKDRWd79Jq-O"
      }
    },
    {
      "cell_type": "code",
      "source": [
        "data = np.array([[-1, 0, 1]])\n",
        "forward = forward_dense.predict(data)\n",
        "print(forward)\n",
        "inverted = inverted_dense.predict(forward)\n",
        "print(inverted)\n",
        "print(delta_check(data, inverted))"
      ],
      "metadata": {
        "colab": {
          "base_uri": "https://localhost:8080/"
        },
        "id": "jSzwUskHIupo",
        "outputId": "71bbe433-afeb-4005-c686-f04fda8bfc2d"
      },
      "execution_count": null,
      "outputs": [
        {
          "output_type": "stream",
          "name": "stdout",
          "text": [
            "WARNING:tensorflow:5 out of the last 5 calls to <function Model.make_predict_function.<locals>.predict_function at 0x7fcc26fa8680> triggered tf.function retracing. Tracing is expensive and the excessive number of tracings could be due to (1) creating @tf.function repeatedly in a loop, (2) passing tensors with different shapes, (3) passing Python objects instead of tensors. For (1), please define your @tf.function outside of the loop. For (2), @tf.function has experimental_relax_shapes=True option that relaxes argument shapes that can avoid unnecessary retracing. For (3), please refer to https://www.tensorflow.org/guide/function#controlling_retracing and https://www.tensorflow.org/api_docs/python/tf/function for  more details.\n",
            "[[-1.128732   -0.00526357 -0.4664197 ]]\n",
            "WARNING:tensorflow:6 out of the last 6 calls to <function Model.make_predict_function.<locals>.predict_function at 0x7fcc26f03290> triggered tf.function retracing. Tracing is expensive and the excessive number of tracings could be due to (1) creating @tf.function repeatedly in a loop, (2) passing tensors with different shapes, (3) passing Python objects instead of tensors. For (1), please define your @tf.function outside of the loop. For (2), @tf.function has experimental_relax_shapes=True option that relaxes argument shapes that can avoid unnecessary retracing. For (3), please refer to https://www.tensorflow.org/guide/function#controlling_retracing and https://www.tensorflow.org/api_docs/python/tf/function for  more details.\n",
            "[[-9.999999e-01  4.560303e-08  1.000000e+00]]\n",
            "True\n"
          ]
        }
      ]
    },
    {
      "cell_type": "markdown",
      "source": [
        "This demonstrates that a standard Dense layer in a Keras model can be fully inverted- subject to some constraints. These demonstrations have only used square matrices, where the matrix does not \"throw away information\" when projecting a vector. A normal deep learning model has a series of differently sized hidden vectors in order to establish a vector space that only contains what is interesting about the dataset, and throws away what is redundant in the dataset. We will address this in the following section- we will train a model using the \"accordion\" style of autoencoder and illustrate that a trained Dense layer can be inverted, but can only invert inputs that are consonant with the training dataset."
      ],
      "metadata": {
        "id": "dwggJSIwJwYH"
      }
    },
    {
      "cell_type": "markdown",
      "source": [
        "# Palindromic Deep Learning"
      ],
      "metadata": {
        "id": "Q_9J5Y97Mdnj"
      }
    },
    {
      "cell_type": "markdown",
      "source": [
        "Next, using the techniques shown above, we will create a simple autoencoder in Keras that is a palindrome: a series of \"forward\" and \"inverted\" layers in matched pairs. \n",
        "\n",
        "First, let's crib some MNIST code from other Keras examples and design the model."
      ],
      "metadata": {
        "id": "3url9mKEMhhC"
      }
    },
    {
      "cell_type": "code",
      "source": [
        "from keras.datasets import mnist\n",
        "\n",
        "(x_train, _), (x_test, _) = mnist.load_data()\n",
        "x_train = x_train.astype('float32') / 255.\n",
        "x_test = x_test.astype('float32') / 255.\n",
        "x_train = x_train.reshape((len(x_train), np.prod(x_train.shape[1:])))\n",
        "x_test = x_test.reshape((len(x_test), np.prod(x_test.shape[1:])))\n",
        "print(x_train.shape)\n",
        "print(x_test.shape)\n"
      ],
      "metadata": {
        "colab": {
          "base_uri": "https://localhost:8080/"
        },
        "id": "gr3ueFRqI9CK",
        "outputId": "f43581b8-f57e-4610-d10b-1071f43faf45"
      },
      "execution_count": null,
      "outputs": [
        {
          "output_type": "stream",
          "name": "stdout",
          "text": [
            "(60000, 784)\n",
            "(10000, 784)\n"
          ]
        }
      ]
    },
    {
      "cell_type": "markdown",
      "source": [
        "The model will create a mirrored sequence of layers based on the techniques for inverting LeakyReLU and Dense demonstrated above."
      ],
      "metadata": {
        "id": "5MZro-_JPIoG"
      }
    },
    {
      "cell_type": "code",
      "source": [
        "def create_palindromic_model():\n",
        "    alpha = 0.3\n",
        "    input_img = tf.keras.Input(shape=(784,))\n",
        "    forward_a = tf.keras.layers.Dense(192, name='a')\n",
        "    forward_b = tf.keras.layers.Dense(128, name='b')\n",
        "    forward_c = tf.keras.layers.Dense(64, name='c')\n",
        "    inverted_c = tf.keras.layers.Lambda(lambda x: tf.matmul(x - forward_c.bias, tf.linalg.pinv(forward_c.kernel)))\n",
        "    inverted_b = tf.keras.layers.Lambda(lambda x: tf.matmul(x - forward_b.bias, tf.linalg.pinv(forward_b.kernel)))\n",
        "    inverted_a = tf.keras.layers.Lambda(lambda x: tf.matmul(x - forward_a.bias, tf.linalg.pinv(forward_a.kernel)))\n",
        "\n",
        "    model = tf.keras.Sequential()\n",
        "    model.add(tf.keras.Input(shape=(784,)))\n",
        "    model.add(tf.keras.layers.Dropout(0.3))\n",
        "    model.add(forward_a)\n",
        "    model.add(tf.keras.layers.LeakyReLU(alpha))\n",
        "    model.add(forward_b)\n",
        "    model.add(tf.keras.layers.LeakyReLU(alpha))\n",
        "    model.add(forward_c)\n",
        "    model.add(inverted_c)\n",
        "    model.add(tf.keras.layers.LeakyReLU(1/alpha))\n",
        "    model.add(inverted_b)\n",
        "    model.add(tf.keras.layers.LeakyReLU(1/alpha))\n",
        "    model.add(inverted_a)\n",
        "\n",
        "    model.compile(optimizer='adam', loss='mse')\n",
        "    model.summary()\n",
        "    return model\n",
        "\n",
        "autoencoder = create_palindromic_model()\n"
      ],
      "metadata": {
        "colab": {
          "base_uri": "https://localhost:8080/"
        },
        "id": "oV523l3HNibt",
        "outputId": "9725e321-ae71-4dfd-8bcd-e2929e2c7157"
      },
      "execution_count": null,
      "outputs": [
        {
          "output_type": "stream",
          "name": "stdout",
          "text": [
            "WARNING:tensorflow:\n",
            "The following Variables were used a Lambda layer's call (lambda_1), but\n",
            "are not present in its tracked objects:\n",
            "  <tf.Variable 'c/kernel:0' shape=(128, 64) dtype=float32>\n",
            "  <tf.Variable 'c/bias:0' shape=(64,) dtype=float32>\n",
            "It is possible that this is intended behavior, but it is more likely\n",
            "an omission. This is a strong indication that this layer should be\n",
            "formulated as a subclassed Layer rather than a Lambda layer.\n",
            "WARNING:tensorflow:\n",
            "The following Variables were used a Lambda layer's call (lambda_2), but\n",
            "are not present in its tracked objects:\n",
            "  <tf.Variable 'b/kernel:0' shape=(192, 128) dtype=float32>\n",
            "  <tf.Variable 'b/bias:0' shape=(128,) dtype=float32>\n",
            "It is possible that this is intended behavior, but it is more likely\n",
            "an omission. This is a strong indication that this layer should be\n",
            "formulated as a subclassed Layer rather than a Lambda layer.\n",
            "WARNING:tensorflow:\n",
            "The following Variables were used a Lambda layer's call (lambda_3), but\n",
            "are not present in its tracked objects:\n",
            "  <tf.Variable 'a/kernel:0' shape=(784, 192) dtype=float32>\n",
            "  <tf.Variable 'a/bias:0' shape=(192,) dtype=float32>\n",
            "It is possible that this is intended behavior, but it is more likely\n",
            "an omission. This is a strong indication that this layer should be\n",
            "formulated as a subclassed Layer rather than a Lambda layer.\n",
            "Model: \"sequential_6\"\n",
            "_________________________________________________________________\n",
            " Layer (type)                Output Shape              Param #   \n",
            "=================================================================\n",
            " dropout (Dropout)           (None, 784)               0         \n",
            "                                                                 \n",
            " a (Dense)                   (None, 192)               150720    \n",
            "                                                                 \n",
            " leaky_re_lu_2 (LeakyReLU)   (None, 192)               0         \n",
            "                                                                 \n",
            " b (Dense)                   (None, 128)               24704     \n",
            "                                                                 \n",
            " leaky_re_lu_3 (LeakyReLU)   (None, 128)               0         \n",
            "                                                                 \n",
            " c (Dense)                   (None, 64)                8256      \n",
            "                                                                 \n",
            " lambda_1 (Lambda)           (None, 128)               0         \n",
            "                                                                 \n",
            " leaky_re_lu_4 (LeakyReLU)   (None, 128)               0         \n",
            "                                                                 \n",
            " lambda_2 (Lambda)           (None, 192)               0         \n",
            "                                                                 \n",
            " leaky_re_lu_5 (LeakyReLU)   (None, 192)               0         \n",
            "                                                                 \n",
            " lambda_3 (Lambda)           (None, 784)               0         \n",
            "                                                                 \n",
            "=================================================================\n",
            "Total params: 183,680\n",
            "Trainable params: 183,680\n",
            "Non-trainable params: 0\n",
            "_________________________________________________________________\n"
          ]
        }
      ]
    },
    {
      "cell_type": "code",
      "source": [
        "num_epochs =  1000  # @param {type: \"slider\", min:2, max:1000}\n",
        "batch_size = 3072\n",
        "\n",
        "early_stopping = tf.keras.callbacks.EarlyStopping(patience=10, restore_best_weights=True)\n",
        "autoencoder.fit(x_train, x_train,\n",
        "                epochs=num_epochs,\n",
        "                batch_size=batch_size,\n",
        "                shuffle=True,\n",
        "                validation_data=(x_test, x_test),\n",
        "                callbacks=[early_stopping],\n",
        "                verbose=2)\n"
      ],
      "metadata": {
        "colab": {
          "base_uri": "https://localhost:8080/"
        },
        "id": "9O71B7TrPq1x",
        "outputId": "bc35a2ca-f5ee-4ae2-c7e2-d535c03c9c0a"
      },
      "execution_count": null,
      "outputs": [
        {
          "output_type": "stream",
          "name": "stdout",
          "text": [
            "Epoch 1/1000\n",
            "20/20 - 3s - loss: 0.1279 - val_loss: 0.0746 - 3s/epoch - 134ms/step\n",
            "Epoch 2/1000\n",
            "20/20 - 2s - loss: 0.0748 - val_loss: 0.0606 - 2s/epoch - 81ms/step\n",
            "Epoch 3/1000\n",
            "20/20 - 2s - loss: 0.0617 - val_loss: 0.0503 - 2s/epoch - 81ms/step\n",
            "Epoch 4/1000\n",
            "20/20 - 2s - loss: 0.0518 - val_loss: 0.0433 - 2s/epoch - 82ms/step\n",
            "Epoch 5/1000\n",
            "20/20 - 2s - loss: 0.0456 - val_loss: 0.0388 - 2s/epoch - 79ms/step\n",
            "Epoch 6/1000\n",
            "20/20 - 2s - loss: 0.0415 - val_loss: 0.0355 - 2s/epoch - 78ms/step\n",
            "Epoch 7/1000\n",
            "20/20 - 2s - loss: 0.0384 - val_loss: 0.0328 - 2s/epoch - 79ms/step\n",
            "Epoch 8/1000\n",
            "20/20 - 1s - loss: 0.0359 - val_loss: 0.0307 - 1s/epoch - 70ms/step\n",
            "Epoch 9/1000\n",
            "20/20 - 1s - loss: 0.0339 - val_loss: 0.0289 - 1s/epoch - 69ms/step\n",
            "Epoch 10/1000\n",
            "20/20 - 1s - loss: 0.0322 - val_loss: 0.0274 - 1s/epoch - 69ms/step\n",
            "Epoch 11/1000\n",
            "20/20 - 1s - loss: 0.0308 - val_loss: 0.0260 - 1s/epoch - 69ms/step\n",
            "Epoch 12/1000\n",
            "20/20 - 1s - loss: 0.0296 - val_loss: 0.0249 - 1s/epoch - 70ms/step\n",
            "Epoch 13/1000\n",
            "20/20 - 1s - loss: 0.0285 - val_loss: 0.0238 - 1s/epoch - 69ms/step\n",
            "Epoch 14/1000\n",
            "20/20 - 1s - loss: 0.0276 - val_loss: 0.0229 - 1s/epoch - 69ms/step\n",
            "Epoch 15/1000\n",
            "20/20 - 1s - loss: 0.0267 - val_loss: 0.0220 - 1s/epoch - 69ms/step\n",
            "Epoch 16/1000\n",
            "20/20 - 1s - loss: 0.0258 - val_loss: 0.0212 - 1s/epoch - 69ms/step\n",
            "Epoch 17/1000\n",
            "20/20 - 1s - loss: 0.0250 - val_loss: 0.0204 - 1s/epoch - 69ms/step\n",
            "Epoch 18/1000\n",
            "20/20 - 1s - loss: 0.0244 - val_loss: 0.0198 - 1s/epoch - 68ms/step\n",
            "Epoch 19/1000\n",
            "20/20 - 1s - loss: 0.0238 - val_loss: 0.0192 - 1s/epoch - 69ms/step\n",
            "Epoch 20/1000\n",
            "20/20 - 1s - loss: 0.0232 - val_loss: 0.0186 - 1s/epoch - 68ms/step\n",
            "Epoch 21/1000\n",
            "20/20 - 1s - loss: 0.0228 - val_loss: 0.0182 - 1s/epoch - 69ms/step\n",
            "Epoch 22/1000\n",
            "20/20 - 1s - loss: 0.0223 - val_loss: 0.0177 - 1s/epoch - 69ms/step\n",
            "Epoch 23/1000\n",
            "20/20 - 1s - loss: 0.0219 - val_loss: 0.0173 - 1s/epoch - 69ms/step\n",
            "Epoch 24/1000\n",
            "20/20 - 1s - loss: 0.0216 - val_loss: 0.0170 - 1s/epoch - 70ms/step\n",
            "Epoch 25/1000\n",
            "20/20 - 1s - loss: 0.0213 - val_loss: 0.0166 - 1s/epoch - 69ms/step\n",
            "Epoch 26/1000\n",
            "20/20 - 1s - loss: 0.0210 - val_loss: 0.0163 - 1s/epoch - 69ms/step\n",
            "Epoch 27/1000\n",
            "20/20 - 1s - loss: 0.0207 - val_loss: 0.0160 - 1s/epoch - 70ms/step\n",
            "Epoch 28/1000\n",
            "20/20 - 1s - loss: 0.0205 - val_loss: 0.0157 - 1s/epoch - 69ms/step\n",
            "Epoch 29/1000\n",
            "20/20 - 1s - loss: 0.0202 - val_loss: 0.0155 - 1s/epoch - 69ms/step\n",
            "Epoch 30/1000\n",
            "20/20 - 1s - loss: 0.0200 - val_loss: 0.0152 - 1s/epoch - 72ms/step\n",
            "Epoch 31/1000\n",
            "20/20 - 1s - loss: 0.0198 - val_loss: 0.0150 - 1s/epoch - 73ms/step\n",
            "Epoch 32/1000\n",
            "20/20 - 1s - loss: 0.0196 - val_loss: 0.0148 - 1s/epoch - 69ms/step\n",
            "Epoch 33/1000\n",
            "20/20 - 1s - loss: 0.0194 - val_loss: 0.0146 - 1s/epoch - 69ms/step\n",
            "Epoch 34/1000\n",
            "20/20 - 1s - loss: 0.0192 - val_loss: 0.0144 - 1s/epoch - 69ms/step\n",
            "Epoch 35/1000\n",
            "20/20 - 1s - loss: 0.0191 - val_loss: 0.0143 - 1s/epoch - 70ms/step\n",
            "Epoch 36/1000\n",
            "20/20 - 1s - loss: 0.0189 - val_loss: 0.0141 - 1s/epoch - 69ms/step\n",
            "Epoch 37/1000\n",
            "20/20 - 1s - loss: 0.0188 - val_loss: 0.0139 - 1s/epoch - 70ms/step\n",
            "Epoch 38/1000\n",
            "20/20 - 1s - loss: 0.0186 - val_loss: 0.0138 - 1s/epoch - 70ms/step\n",
            "Epoch 39/1000\n",
            "20/20 - 1s - loss: 0.0185 - val_loss: 0.0137 - 1s/epoch - 70ms/step\n",
            "Epoch 40/1000\n",
            "20/20 - 1s - loss: 0.0184 - val_loss: 0.0135 - 1s/epoch - 70ms/step\n",
            "Epoch 41/1000\n",
            "20/20 - 1s - loss: 0.0182 - val_loss: 0.0134 - 1s/epoch - 69ms/step\n",
            "Epoch 42/1000\n",
            "20/20 - 1s - loss: 0.0182 - val_loss: 0.0133 - 1s/epoch - 70ms/step\n",
            "Epoch 43/1000\n",
            "20/20 - 1s - loss: 0.0181 - val_loss: 0.0132 - 1s/epoch - 69ms/step\n",
            "Epoch 44/1000\n",
            "20/20 - 1s - loss: 0.0179 - val_loss: 0.0131 - 1s/epoch - 70ms/step\n",
            "Epoch 45/1000\n",
            "20/20 - 1s - loss: 0.0178 - val_loss: 0.0129 - 1s/epoch - 70ms/step\n",
            "Epoch 46/1000\n",
            "20/20 - 1s - loss: 0.0178 - val_loss: 0.0129 - 1s/epoch - 69ms/step\n",
            "Epoch 47/1000\n",
            "20/20 - 1s - loss: 0.0177 - val_loss: 0.0127 - 1s/epoch - 69ms/step\n",
            "Epoch 48/1000\n",
            "20/20 - 1s - loss: 0.0176 - val_loss: 0.0127 - 1s/epoch - 69ms/step\n",
            "Epoch 49/1000\n",
            "20/20 - 1s - loss: 0.0175 - val_loss: 0.0126 - 1s/epoch - 69ms/step\n",
            "Epoch 50/1000\n",
            "20/20 - 1s - loss: 0.0174 - val_loss: 0.0125 - 1s/epoch - 69ms/step\n",
            "Epoch 51/1000\n",
            "20/20 - 1s - loss: 0.0174 - val_loss: 0.0125 - 1s/epoch - 69ms/step\n",
            "Epoch 52/1000\n",
            "20/20 - 1s - loss: 0.0173 - val_loss: 0.0124 - 1s/epoch - 68ms/step\n",
            "Epoch 53/1000\n",
            "20/20 - 1s - loss: 0.0173 - val_loss: 0.0123 - 1s/epoch - 68ms/step\n",
            "Epoch 54/1000\n",
            "20/20 - 1s - loss: 0.0172 - val_loss: 0.0123 - 1s/epoch - 70ms/step\n",
            "Epoch 55/1000\n",
            "20/20 - 1s - loss: 0.0171 - val_loss: 0.0122 - 1s/epoch - 69ms/step\n",
            "Epoch 56/1000\n",
            "20/20 - 1s - loss: 0.0171 - val_loss: 0.0122 - 1s/epoch - 69ms/step\n",
            "Epoch 57/1000\n",
            "20/20 - 1s - loss: 0.0170 - val_loss: 0.0121 - 1s/epoch - 70ms/step\n",
            "Epoch 58/1000\n",
            "20/20 - 1s - loss: 0.0170 - val_loss: 0.0121 - 1s/epoch - 69ms/step\n",
            "Epoch 59/1000\n",
            "20/20 - 1s - loss: 0.0170 - val_loss: 0.0120 - 1s/epoch - 69ms/step\n",
            "Epoch 60/1000\n",
            "20/20 - 1s - loss: 0.0169 - val_loss: 0.0119 - 1s/epoch - 69ms/step\n",
            "Epoch 61/1000\n",
            "20/20 - 1s - loss: 0.0169 - val_loss: 0.0119 - 1s/epoch - 68ms/step\n",
            "Epoch 62/1000\n",
            "20/20 - 1s - loss: 0.0168 - val_loss: 0.0119 - 1s/epoch - 68ms/step\n",
            "Epoch 63/1000\n",
            "20/20 - 1s - loss: 0.0168 - val_loss: 0.0118 - 1s/epoch - 68ms/step\n",
            "Epoch 64/1000\n",
            "20/20 - 1s - loss: 0.0167 - val_loss: 0.0118 - 1s/epoch - 68ms/step\n",
            "Epoch 65/1000\n",
            "20/20 - 1s - loss: 0.0167 - val_loss: 0.0118 - 1s/epoch - 68ms/step\n",
            "Epoch 66/1000\n",
            "20/20 - 1s - loss: 0.0167 - val_loss: 0.0117 - 1s/epoch - 68ms/step\n",
            "Epoch 67/1000\n",
            "20/20 - 1s - loss: 0.0166 - val_loss: 0.0117 - 1s/epoch - 69ms/step\n",
            "Epoch 68/1000\n",
            "20/20 - 1s - loss: 0.0166 - val_loss: 0.0116 - 1s/epoch - 68ms/step\n",
            "Epoch 69/1000\n",
            "20/20 - 1s - loss: 0.0166 - val_loss: 0.0116 - 1s/epoch - 68ms/step\n",
            "Epoch 70/1000\n",
            "20/20 - 1s - loss: 0.0165 - val_loss: 0.0116 - 1s/epoch - 68ms/step\n",
            "Epoch 71/1000\n",
            "20/20 - 1s - loss: 0.0165 - val_loss: 0.0115 - 1s/epoch - 69ms/step\n",
            "Epoch 72/1000\n",
            "20/20 - 1s - loss: 0.0165 - val_loss: 0.0115 - 1s/epoch - 67ms/step\n",
            "Epoch 73/1000\n",
            "20/20 - 1s - loss: 0.0164 - val_loss: 0.0115 - 1s/epoch - 67ms/step\n",
            "Epoch 74/1000\n",
            "20/20 - 1s - loss: 0.0164 - val_loss: 0.0114 - 1s/epoch - 68ms/step\n",
            "Epoch 75/1000\n",
            "20/20 - 1s - loss: 0.0164 - val_loss: 0.0114 - 1s/epoch - 68ms/step\n",
            "Epoch 76/1000\n",
            "20/20 - 1s - loss: 0.0163 - val_loss: 0.0114 - 1s/epoch - 69ms/step\n",
            "Epoch 77/1000\n",
            "20/20 - 1s - loss: 0.0163 - val_loss: 0.0113 - 1s/epoch - 68ms/step\n",
            "Epoch 78/1000\n",
            "20/20 - 1s - loss: 0.0163 - val_loss: 0.0113 - 1s/epoch - 68ms/step\n",
            "Epoch 79/1000\n",
            "20/20 - 1s - loss: 0.0163 - val_loss: 0.0113 - 1s/epoch - 68ms/step\n",
            "Epoch 80/1000\n",
            "20/20 - 1s - loss: 0.0162 - val_loss: 0.0113 - 1s/epoch - 69ms/step\n",
            "Epoch 81/1000\n",
            "20/20 - 1s - loss: 0.0162 - val_loss: 0.0113 - 1s/epoch - 68ms/step\n",
            "Epoch 82/1000\n",
            "20/20 - 1s - loss: 0.0162 - val_loss: 0.0113 - 1s/epoch - 68ms/step\n",
            "Epoch 83/1000\n",
            "20/20 - 1s - loss: 0.0162 - val_loss: 0.0112 - 1s/epoch - 68ms/step\n",
            "Epoch 84/1000\n",
            "20/20 - 1s - loss: 0.0162 - val_loss: 0.0112 - 1s/epoch - 69ms/step\n",
            "Epoch 85/1000\n",
            "20/20 - 1s - loss: 0.0161 - val_loss: 0.0112 - 1s/epoch - 69ms/step\n",
            "Epoch 86/1000\n",
            "20/20 - 1s - loss: 0.0161 - val_loss: 0.0111 - 1s/epoch - 69ms/step\n",
            "Epoch 87/1000\n",
            "20/20 - 1s - loss: 0.0161 - val_loss: 0.0111 - 1s/epoch - 69ms/step\n",
            "Epoch 88/1000\n",
            "20/20 - 1s - loss: 0.0161 - val_loss: 0.0111 - 1s/epoch - 69ms/step\n",
            "Epoch 89/1000\n",
            "20/20 - 1s - loss: 0.0161 - val_loss: 0.0111 - 1s/epoch - 69ms/step\n",
            "Epoch 90/1000\n",
            "20/20 - 1s - loss: 0.0161 - val_loss: 0.0111 - 1s/epoch - 69ms/step\n",
            "Epoch 91/1000\n",
            "20/20 - 1s - loss: 0.0161 - val_loss: 0.0111 - 1s/epoch - 69ms/step\n",
            "Epoch 92/1000\n",
            "20/20 - 1s - loss: 0.0161 - val_loss: 0.0111 - 1s/epoch - 68ms/step\n",
            "Epoch 93/1000\n",
            "20/20 - 1s - loss: 0.0160 - val_loss: 0.0111 - 1s/epoch - 69ms/step\n",
            "Epoch 94/1000\n",
            "20/20 - 1s - loss: 0.0160 - val_loss: 0.0111 - 1s/epoch - 68ms/step\n",
            "Epoch 95/1000\n",
            "20/20 - 1s - loss: 0.0160 - val_loss: 0.0111 - 1s/epoch - 69ms/step\n",
            "Epoch 96/1000\n",
            "20/20 - 1s - loss: 0.0160 - val_loss: 0.0111 - 1s/epoch - 69ms/step\n",
            "Epoch 97/1000\n",
            "20/20 - 1s - loss: 0.0160 - val_loss: 0.0110 - 1s/epoch - 69ms/step\n",
            "Epoch 98/1000\n",
            "20/20 - 1s - loss: 0.0160 - val_loss: 0.0110 - 1s/epoch - 69ms/step\n",
            "Epoch 99/1000\n",
            "20/20 - 1s - loss: 0.0160 - val_loss: 0.0110 - 1s/epoch - 69ms/step\n",
            "Epoch 100/1000\n",
            "20/20 - 1s - loss: 0.0160 - val_loss: 0.0110 - 1s/epoch - 69ms/step\n",
            "Epoch 101/1000\n",
            "20/20 - 1s - loss: 0.0160 - val_loss: 0.0110 - 1s/epoch - 69ms/step\n",
            "Epoch 102/1000\n",
            "20/20 - 1s - loss: 0.0159 - val_loss: 0.0111 - 1s/epoch - 69ms/step\n",
            "Epoch 103/1000\n",
            "20/20 - 1s - loss: 0.0159 - val_loss: 0.0111 - 1s/epoch - 69ms/step\n",
            "Epoch 104/1000\n",
            "20/20 - 1s - loss: 0.0159 - val_loss: 0.0110 - 1s/epoch - 69ms/step\n",
            "Epoch 105/1000\n",
            "20/20 - 1s - loss: 0.0159 - val_loss: 0.0110 - 1s/epoch - 68ms/step\n",
            "Epoch 106/1000\n",
            "20/20 - 1s - loss: 0.0159 - val_loss: 0.0110 - 1s/epoch - 68ms/step\n",
            "Epoch 107/1000\n",
            "20/20 - 1s - loss: 0.0159 - val_loss: 0.0110 - 1s/epoch - 69ms/step\n",
            "Epoch 108/1000\n",
            "20/20 - 1s - loss: 0.0159 - val_loss: 0.0110 - 1s/epoch - 69ms/step\n",
            "Epoch 109/1000\n",
            "20/20 - 1s - loss: 0.0159 - val_loss: 0.0110 - 1s/epoch - 69ms/step\n",
            "Epoch 110/1000\n",
            "20/20 - 1s - loss: 0.0159 - val_loss: 0.0110 - 1s/epoch - 68ms/step\n",
            "Epoch 111/1000\n",
            "20/20 - 1s - loss: 0.0159 - val_loss: 0.0110 - 1s/epoch - 68ms/step\n",
            "Epoch 112/1000\n",
            "20/20 - 1s - loss: 0.0159 - val_loss: 0.0110 - 1s/epoch - 67ms/step\n",
            "Epoch 113/1000\n",
            "20/20 - 1s - loss: 0.0159 - val_loss: 0.0110 - 1s/epoch - 68ms/step\n",
            "Epoch 114/1000\n",
            "20/20 - 1s - loss: 0.0158 - val_loss: 0.0110 - 1s/epoch - 69ms/step\n",
            "Epoch 115/1000\n",
            "20/20 - 1s - loss: 0.0159 - val_loss: 0.0109 - 1s/epoch - 68ms/step\n",
            "Epoch 116/1000\n",
            "20/20 - 1s - loss: 0.0159 - val_loss: 0.0110 - 1s/epoch - 66ms/step\n",
            "Epoch 117/1000\n",
            "20/20 - 1s - loss: 0.0158 - val_loss: 0.0109 - 1s/epoch - 67ms/step\n",
            "Epoch 118/1000\n",
            "20/20 - 1s - loss: 0.0158 - val_loss: 0.0110 - 1s/epoch - 66ms/step\n",
            "Epoch 119/1000\n",
            "20/20 - 1s - loss: 0.0158 - val_loss: 0.0110 - 1s/epoch - 66ms/step\n",
            "Epoch 120/1000\n",
            "20/20 - 1s - loss: 0.0158 - val_loss: 0.0110 - 1s/epoch - 67ms/step\n",
            "Epoch 121/1000\n",
            "20/20 - 1s - loss: 0.0158 - val_loss: 0.0109 - 1s/epoch - 66ms/step\n",
            "Epoch 122/1000\n",
            "20/20 - 1s - loss: 0.0158 - val_loss: 0.0110 - 1s/epoch - 66ms/step\n",
            "Epoch 123/1000\n",
            "20/20 - 1s - loss: 0.0158 - val_loss: 0.0109 - 1s/epoch - 66ms/step\n",
            "Epoch 124/1000\n",
            "20/20 - 1s - loss: 0.0158 - val_loss: 0.0109 - 1s/epoch - 66ms/step\n",
            "Epoch 125/1000\n",
            "20/20 - 1s - loss: 0.0158 - val_loss: 0.0109 - 1s/epoch - 65ms/step\n",
            "Epoch 126/1000\n",
            "20/20 - 1s - loss: 0.0158 - val_loss: 0.0109 - 1s/epoch - 65ms/step\n",
            "Epoch 127/1000\n",
            "20/20 - 1s - loss: 0.0158 - val_loss: 0.0109 - 1s/epoch - 65ms/step\n",
            "Epoch 128/1000\n",
            "20/20 - 1s - loss: 0.0157 - val_loss: 0.0109 - 1s/epoch - 66ms/step\n",
            "Epoch 129/1000\n",
            "20/20 - 1s - loss: 0.0157 - val_loss: 0.0109 - 1s/epoch - 65ms/step\n",
            "Epoch 130/1000\n",
            "20/20 - 1s - loss: 0.0158 - val_loss: 0.0109 - 1s/epoch - 65ms/step\n",
            "Epoch 131/1000\n",
            "20/20 - 1s - loss: 0.0157 - val_loss: 0.0109 - 1s/epoch - 66ms/step\n",
            "Epoch 132/1000\n",
            "20/20 - 1s - loss: 0.0157 - val_loss: 0.0109 - 1s/epoch - 66ms/step\n",
            "Epoch 133/1000\n",
            "20/20 - 1s - loss: 0.0157 - val_loss: 0.0109 - 1s/epoch - 66ms/step\n",
            "Epoch 134/1000\n",
            "20/20 - 1s - loss: 0.0157 - val_loss: 0.0109 - 1s/epoch - 65ms/step\n",
            "Epoch 135/1000\n",
            "20/20 - 1s - loss: 0.0157 - val_loss: 0.0109 - 1s/epoch - 65ms/step\n",
            "Epoch 136/1000\n",
            "20/20 - 1s - loss: 0.0157 - val_loss: 0.0109 - 1s/epoch - 66ms/step\n",
            "Epoch 137/1000\n",
            "20/20 - 1s - loss: 0.0157 - val_loss: 0.0109 - 1s/epoch - 66ms/step\n",
            "Epoch 138/1000\n",
            "20/20 - 1s - loss: 0.0157 - val_loss: 0.0110 - 1s/epoch - 65ms/step\n",
            "Epoch 139/1000\n",
            "20/20 - 1s - loss: 0.0157 - val_loss: 0.0109 - 1s/epoch - 65ms/step\n",
            "Epoch 140/1000\n",
            "20/20 - 1s - loss: 0.0157 - val_loss: 0.0109 - 1s/epoch - 66ms/step\n",
            "Epoch 141/1000\n",
            "20/20 - 1s - loss: 0.0157 - val_loss: 0.0109 - 1s/epoch - 65ms/step\n",
            "Epoch 142/1000\n",
            "20/20 - 1s - loss: 0.0157 - val_loss: 0.0109 - 1s/epoch - 65ms/step\n",
            "Epoch 143/1000\n",
            "20/20 - 1s - loss: 0.0157 - val_loss: 0.0109 - 1s/epoch - 66ms/step\n",
            "Epoch 144/1000\n",
            "20/20 - 1s - loss: 0.0157 - val_loss: 0.0109 - 1s/epoch - 66ms/step\n",
            "Epoch 145/1000\n",
            "20/20 - 1s - loss: 0.0156 - val_loss: 0.0109 - 1s/epoch - 65ms/step\n",
            "Epoch 146/1000\n",
            "20/20 - 1s - loss: 0.0156 - val_loss: 0.0109 - 1s/epoch - 65ms/step\n",
            "Epoch 147/1000\n",
            "20/20 - 1s - loss: 0.0156 - val_loss: 0.0108 - 1s/epoch - 66ms/step\n",
            "Epoch 148/1000\n",
            "20/20 - 1s - loss: 0.0156 - val_loss: 0.0108 - 1s/epoch - 65ms/step\n",
            "Epoch 149/1000\n",
            "20/20 - 1s - loss: 0.0156 - val_loss: 0.0109 - 1s/epoch - 66ms/step\n",
            "Epoch 150/1000\n",
            "20/20 - 1s - loss: 0.0156 - val_loss: 0.0109 - 1s/epoch - 64ms/step\n",
            "Epoch 151/1000\n",
            "20/20 - 1s - loss: 0.0156 - val_loss: 0.0108 - 1s/epoch - 65ms/step\n",
            "Epoch 152/1000\n",
            "20/20 - 1s - loss: 0.0156 - val_loss: 0.0108 - 1s/epoch - 64ms/step\n",
            "Epoch 153/1000\n",
            "20/20 - 1s - loss: 0.0156 - val_loss: 0.0108 - 1s/epoch - 65ms/step\n",
            "Epoch 154/1000\n",
            "20/20 - 1s - loss: 0.0156 - val_loss: 0.0108 - 1s/epoch - 64ms/step\n",
            "Epoch 155/1000\n",
            "20/20 - 1s - loss: 0.0156 - val_loss: 0.0109 - 1s/epoch - 65ms/step\n",
            "Epoch 156/1000\n",
            "20/20 - 1s - loss: 0.0156 - val_loss: 0.0108 - 1s/epoch - 65ms/step\n",
            "Epoch 157/1000\n",
            "20/20 - 1s - loss: 0.0156 - val_loss: 0.0108 - 1s/epoch - 64ms/step\n",
            "Epoch 158/1000\n",
            "20/20 - 1s - loss: 0.0156 - val_loss: 0.0109 - 1s/epoch - 65ms/step\n",
            "Epoch 159/1000\n",
            "20/20 - 1s - loss: 0.0156 - val_loss: 0.0108 - 1s/epoch - 65ms/step\n",
            "Epoch 160/1000\n",
            "20/20 - 1s - loss: 0.0155 - val_loss: 0.0108 - 1s/epoch - 65ms/step\n",
            "Epoch 161/1000\n",
            "20/20 - 1s - loss: 0.0155 - val_loss: 0.0108 - 1s/epoch - 65ms/step\n",
            "Epoch 162/1000\n",
            "20/20 - 1s - loss: 0.0155 - val_loss: 0.0108 - 1s/epoch - 65ms/step\n",
            "Epoch 163/1000\n",
            "20/20 - 1s - loss: 0.0155 - val_loss: 0.0108 - 1s/epoch - 65ms/step\n",
            "Epoch 164/1000\n",
            "20/20 - 1s - loss: 0.0155 - val_loss: 0.0108 - 1s/epoch - 65ms/step\n",
            "Epoch 165/1000\n",
            "20/20 - 1s - loss: 0.0156 - val_loss: 0.0108 - 1s/epoch - 65ms/step\n",
            "Epoch 166/1000\n",
            "20/20 - 1s - loss: 0.0155 - val_loss: 0.0108 - 1s/epoch - 65ms/step\n",
            "Epoch 167/1000\n",
            "20/20 - 1s - loss: 0.0155 - val_loss: 0.0108 - 1s/epoch - 65ms/step\n",
            "Epoch 168/1000\n",
            "20/20 - 1s - loss: 0.0155 - val_loss: 0.0108 - 1s/epoch - 64ms/step\n",
            "Epoch 169/1000\n",
            "20/20 - 1s - loss: 0.0155 - val_loss: 0.0108 - 1s/epoch - 65ms/step\n",
            "Epoch 170/1000\n",
            "20/20 - 1s - loss: 0.0155 - val_loss: 0.0108 - 1s/epoch - 64ms/step\n",
            "Epoch 171/1000\n",
            "20/20 - 1s - loss: 0.0155 - val_loss: 0.0108 - 1s/epoch - 64ms/step\n",
            "Epoch 172/1000\n",
            "20/20 - 1s - loss: 0.0154 - val_loss: 0.0108 - 1s/epoch - 64ms/step\n",
            "Epoch 173/1000\n",
            "20/20 - 1s - loss: 0.0155 - val_loss: 0.0107 - 1s/epoch - 65ms/step\n",
            "Epoch 174/1000\n",
            "20/20 - 1s - loss: 0.0154 - val_loss: 0.0108 - 1s/epoch - 64ms/step\n",
            "Epoch 175/1000\n",
            "20/20 - 1s - loss: 0.0154 - val_loss: 0.0108 - 1s/epoch - 64ms/step\n",
            "Epoch 176/1000\n",
            "20/20 - 1s - loss: 0.0155 - val_loss: 0.0107 - 1s/epoch - 64ms/step\n",
            "Epoch 177/1000\n",
            "20/20 - 1s - loss: 0.0154 - val_loss: 0.0107 - 1s/epoch - 65ms/step\n",
            "Epoch 178/1000\n",
            "20/20 - 1s - loss: 0.0154 - val_loss: 0.0107 - 1s/epoch - 64ms/step\n",
            "Epoch 179/1000\n",
            "20/20 - 1s - loss: 0.0154 - val_loss: 0.0107 - 1s/epoch - 64ms/step\n",
            "Epoch 180/1000\n",
            "20/20 - 1s - loss: 0.0154 - val_loss: 0.0107 - 1s/epoch - 64ms/step\n",
            "Epoch 181/1000\n",
            "20/20 - 1s - loss: 0.0154 - val_loss: 0.0107 - 1s/epoch - 64ms/step\n",
            "Epoch 182/1000\n",
            "20/20 - 1s - loss: 0.0154 - val_loss: 0.0107 - 1s/epoch - 64ms/step\n",
            "Epoch 183/1000\n",
            "20/20 - 1s - loss: 0.0153 - val_loss: 0.0107 - 1s/epoch - 64ms/step\n",
            "Epoch 184/1000\n",
            "20/20 - 1s - loss: 0.0153 - val_loss: 0.0107 - 1s/epoch - 65ms/step\n",
            "Epoch 185/1000\n",
            "20/20 - 1s - loss: 0.0154 - val_loss: 0.0109 - 1s/epoch - 64ms/step\n",
            "Epoch 186/1000\n",
            "20/20 - 1s - loss: 0.0154 - val_loss: 0.0107 - 1s/epoch - 64ms/step\n",
            "Epoch 187/1000\n",
            "20/20 - 1s - loss: 0.0153 - val_loss: 0.0107 - 1s/epoch - 64ms/step\n",
            "Epoch 188/1000\n",
            "20/20 - 1s - loss: 0.0153 - val_loss: 0.0107 - 1s/epoch - 64ms/step\n",
            "Epoch 189/1000\n",
            "20/20 - 1s - loss: 0.0153 - val_loss: 0.0107 - 1s/epoch - 64ms/step\n",
            "Epoch 190/1000\n",
            "20/20 - 1s - loss: 0.0153 - val_loss: 0.0107 - 1s/epoch - 64ms/step\n",
            "Epoch 191/1000\n",
            "20/20 - 1s - loss: 0.0153 - val_loss: 0.0106 - 1s/epoch - 64ms/step\n",
            "Epoch 192/1000\n",
            "20/20 - 1s - loss: 0.0153 - val_loss: 0.0107 - 1s/epoch - 64ms/step\n",
            "Epoch 193/1000\n",
            "20/20 - 1s - loss: 0.0153 - val_loss: 0.0107 - 1s/epoch - 64ms/step\n",
            "Epoch 194/1000\n",
            "20/20 - 1s - loss: 0.0153 - val_loss: 0.0107 - 1s/epoch - 64ms/step\n",
            "Epoch 195/1000\n",
            "20/20 - 1s - loss: 0.0152 - val_loss: 0.0106 - 1s/epoch - 64ms/step\n",
            "Epoch 196/1000\n",
            "20/20 - 1s - loss: 0.0153 - val_loss: 0.0106 - 1s/epoch - 64ms/step\n",
            "Epoch 197/1000\n",
            "20/20 - 1s - loss: 0.0153 - val_loss: 0.0106 - 1s/epoch - 64ms/step\n",
            "Epoch 198/1000\n",
            "20/20 - 1s - loss: 0.0152 - val_loss: 0.0106 - 1s/epoch - 64ms/step\n",
            "Epoch 199/1000\n",
            "20/20 - 1s - loss: 0.0152 - val_loss: 0.0107 - 1s/epoch - 64ms/step\n",
            "Epoch 200/1000\n",
            "20/20 - 1s - loss: 0.0152 - val_loss: 0.0106 - 1s/epoch - 64ms/step\n",
            "Epoch 201/1000\n",
            "20/20 - 1s - loss: 0.0152 - val_loss: 0.0106 - 1s/epoch - 64ms/step\n",
            "Epoch 202/1000\n",
            "20/20 - 1s - loss: 0.0152 - val_loss: 0.0107 - 1s/epoch - 64ms/step\n",
            "Epoch 203/1000\n",
            "20/20 - 1s - loss: 0.0152 - val_loss: 0.0106 - 1s/epoch - 64ms/step\n",
            "Epoch 204/1000\n",
            "20/20 - 1s - loss: 0.0152 - val_loss: 0.0105 - 1s/epoch - 64ms/step\n",
            "Epoch 205/1000\n",
            "20/20 - 1s - loss: 0.0152 - val_loss: 0.0106 - 1s/epoch - 64ms/step\n",
            "Epoch 206/1000\n",
            "20/20 - 1s - loss: 0.0152 - val_loss: 0.0106 - 1s/epoch - 64ms/step\n",
            "Epoch 207/1000\n",
            "20/20 - 1s - loss: 0.0152 - val_loss: 0.0106 - 1s/epoch - 64ms/step\n",
            "Epoch 208/1000\n",
            "20/20 - 1s - loss: 0.0152 - val_loss: 0.0108 - 1s/epoch - 65ms/step\n",
            "Epoch 209/1000\n",
            "20/20 - 1s - loss: 0.0152 - val_loss: 0.0106 - 1s/epoch - 64ms/step\n",
            "Epoch 210/1000\n",
            "20/20 - 1s - loss: 0.0151 - val_loss: 0.0106 - 1s/epoch - 64ms/step\n",
            "Epoch 211/1000\n",
            "20/20 - 1s - loss: 0.0151 - val_loss: 0.0106 - 1s/epoch - 65ms/step\n",
            "Epoch 212/1000\n",
            "20/20 - 1s - loss: 0.0153 - val_loss: 0.0106 - 1s/epoch - 64ms/step\n",
            "Epoch 213/1000\n",
            "20/20 - 1s - loss: 0.0151 - val_loss: 0.0106 - 1s/epoch - 65ms/step\n",
            "Epoch 214/1000\n",
            "20/20 - 1s - loss: 0.0151 - val_loss: 0.0105 - 1s/epoch - 65ms/step\n",
            "Epoch 215/1000\n",
            "20/20 - 1s - loss: 0.0151 - val_loss: 0.0105 - 1s/epoch - 64ms/step\n",
            "Epoch 216/1000\n",
            "20/20 - 1s - loss: 0.0151 - val_loss: 0.0105 - 1s/epoch - 64ms/step\n",
            "Epoch 217/1000\n",
            "20/20 - 1s - loss: 0.0151 - val_loss: 0.0105 - 1s/epoch - 64ms/step\n",
            "Epoch 218/1000\n",
            "20/20 - 1s - loss: 0.0151 - val_loss: 0.0105 - 1s/epoch - 64ms/step\n",
            "Epoch 219/1000\n",
            "20/20 - 1s - loss: 0.0151 - val_loss: 0.0105 - 1s/epoch - 64ms/step\n",
            "Epoch 220/1000\n",
            "20/20 - 1s - loss: 0.0151 - val_loss: 0.0105 - 1s/epoch - 64ms/step\n",
            "Epoch 221/1000\n",
            "20/20 - 1s - loss: 0.0150 - val_loss: 0.0105 - 1s/epoch - 65ms/step\n",
            "Epoch 222/1000\n",
            "20/20 - 1s - loss: 0.0150 - val_loss: 0.0105 - 1s/epoch - 64ms/step\n",
            "Epoch 223/1000\n",
            "20/20 - 1s - loss: 0.0150 - val_loss: 0.0105 - 1s/epoch - 65ms/step\n",
            "Epoch 224/1000\n",
            "20/20 - 1s - loss: 0.0151 - val_loss: 0.0104 - 1s/epoch - 65ms/step\n",
            "Epoch 225/1000\n",
            "20/20 - 1s - loss: 0.0150 - val_loss: 0.0105 - 1s/epoch - 65ms/step\n",
            "Epoch 226/1000\n",
            "20/20 - 1s - loss: 0.0150 - val_loss: 0.0105 - 1s/epoch - 65ms/step\n",
            "Epoch 227/1000\n",
            "20/20 - 1s - loss: 0.0150 - val_loss: 0.0105 - 1s/epoch - 65ms/step\n",
            "Epoch 228/1000\n",
            "20/20 - 1s - loss: 0.0150 - val_loss: 0.0105 - 1s/epoch - 65ms/step\n",
            "Epoch 229/1000\n",
            "20/20 - 1s - loss: 0.0150 - val_loss: 0.0105 - 1s/epoch - 64ms/step\n",
            "Epoch 230/1000\n",
            "20/20 - 1s - loss: 0.0150 - val_loss: 0.0104 - 1s/epoch - 64ms/step\n",
            "Epoch 231/1000\n",
            "20/20 - 1s - loss: 0.0150 - val_loss: 0.0105 - 1s/epoch - 65ms/step\n",
            "Epoch 232/1000\n",
            "20/20 - 1s - loss: 0.0150 - val_loss: 0.0105 - 1s/epoch - 65ms/step\n",
            "Epoch 233/1000\n",
            "20/20 - 1s - loss: 0.0150 - val_loss: 0.0105 - 1s/epoch - 64ms/step\n",
            "Epoch 234/1000\n",
            "20/20 - 1s - loss: 0.0150 - val_loss: 0.0105 - 1s/epoch - 64ms/step\n",
            "Epoch 235/1000\n",
            "20/20 - 1s - loss: 0.0151 - val_loss: 0.0105 - 1s/epoch - 64ms/step\n",
            "Epoch 236/1000\n",
            "20/20 - 1s - loss: 0.0150 - val_loss: 0.0105 - 1s/epoch - 64ms/step\n",
            "Epoch 237/1000\n",
            "20/20 - 1s - loss: 0.0150 - val_loss: 0.0104 - 1s/epoch - 64ms/step\n",
            "Epoch 238/1000\n",
            "20/20 - 1s - loss: 0.0149 - val_loss: 0.0104 - 1s/epoch - 64ms/step\n",
            "Epoch 239/1000\n",
            "20/20 - 1s - loss: 0.0150 - val_loss: 0.0104 - 1s/epoch - 65ms/step\n",
            "Epoch 240/1000\n",
            "20/20 - 1s - loss: 0.0149 - val_loss: 0.0104 - 1s/epoch - 64ms/step\n",
            "Epoch 241/1000\n",
            "20/20 - 1s - loss: 0.0150 - val_loss: 0.0105 - 1s/epoch - 64ms/step\n",
            "Epoch 242/1000\n",
            "20/20 - 1s - loss: 0.0149 - val_loss: 0.0106 - 1s/epoch - 64ms/step\n",
            "Epoch 243/1000\n",
            "20/20 - 1s - loss: 0.0150 - val_loss: 0.0104 - 1s/epoch - 65ms/step\n",
            "Epoch 244/1000\n",
            "20/20 - 1s - loss: 0.0149 - val_loss: 0.0104 - 1s/epoch - 65ms/step\n",
            "Epoch 245/1000\n",
            "20/20 - 1s - loss: 0.0149 - val_loss: 0.0105 - 1s/epoch - 64ms/step\n",
            "Epoch 246/1000\n",
            "20/20 - 1s - loss: 0.0150 - val_loss: 0.0104 - 1s/epoch - 64ms/step\n",
            "Epoch 247/1000\n",
            "20/20 - 1s - loss: 0.0149 - val_loss: 0.0104 - 1s/epoch - 64ms/step\n",
            "Epoch 248/1000\n",
            "20/20 - 1s - loss: 0.0149 - val_loss: 0.0104 - 1s/epoch - 64ms/step\n",
            "Epoch 249/1000\n",
            "20/20 - 1s - loss: 0.0149 - val_loss: 0.0104 - 1s/epoch - 64ms/step\n",
            "Epoch 250/1000\n",
            "20/20 - 1s - loss: 0.0149 - val_loss: 0.0104 - 1s/epoch - 64ms/step\n",
            "Epoch 251/1000\n",
            "20/20 - 1s - loss: 0.0149 - val_loss: 0.0104 - 1s/epoch - 65ms/step\n",
            "Epoch 252/1000\n",
            "20/20 - 1s - loss: 0.0149 - val_loss: 0.0104 - 1s/epoch - 69ms/step\n",
            "Epoch 253/1000\n",
            "20/20 - 1s - loss: 0.0148 - val_loss: 0.0104 - 1s/epoch - 64ms/step\n",
            "Epoch 254/1000\n",
            "20/20 - 1s - loss: 0.0149 - val_loss: 0.0104 - 1s/epoch - 64ms/step\n",
            "Epoch 255/1000\n",
            "20/20 - 1s - loss: 0.0149 - val_loss: 0.0104 - 1s/epoch - 65ms/step\n",
            "Epoch 256/1000\n",
            "20/20 - 1s - loss: 0.0148 - val_loss: 0.0103 - 1s/epoch - 64ms/step\n",
            "Epoch 257/1000\n",
            "20/20 - 1s - loss: 0.0148 - val_loss: 0.0104 - 1s/epoch - 63ms/step\n",
            "Epoch 258/1000\n",
            "20/20 - 1s - loss: 0.0149 - val_loss: 0.0104 - 1s/epoch - 64ms/step\n",
            "Epoch 259/1000\n",
            "20/20 - 1s - loss: 0.0149 - val_loss: 0.0104 - 1s/epoch - 65ms/step\n",
            "Epoch 260/1000\n",
            "20/20 - 1s - loss: 0.0148 - val_loss: 0.0103 - 1s/epoch - 64ms/step\n",
            "Epoch 261/1000\n",
            "20/20 - 1s - loss: 0.0148 - val_loss: 0.0103 - 1s/epoch - 64ms/step\n",
            "Epoch 262/1000\n",
            "20/20 - 1s - loss: 0.0148 - val_loss: 0.0103 - 1s/epoch - 65ms/step\n",
            "Epoch 263/1000\n",
            "20/20 - 1s - loss: 0.0149 - val_loss: 0.0105 - 1s/epoch - 64ms/step\n",
            "Epoch 264/1000\n",
            "20/20 - 1s - loss: 0.0148 - val_loss: 0.0104 - 1s/epoch - 64ms/step\n",
            "Epoch 265/1000\n",
            "20/20 - 1s - loss: 0.0148 - val_loss: 0.0103 - 1s/epoch - 64ms/step\n",
            "Epoch 266/1000\n",
            "20/20 - 1s - loss: 0.0148 - val_loss: 0.0104 - 1s/epoch - 63ms/step\n"
          ]
        },
        {
          "output_type": "execute_result",
          "data": {
            "text/plain": [
              "<keras.callbacks.History at 0x7fcc28709910>"
            ]
          },
          "metadata": {},
          "execution_count": 11
        }
      ]
    },
    {
      "cell_type": "code",
      "source": [
        "n = 10  # How many digits we will display\n",
        "# display_imgs = x_test.take(n)\n",
        "predicted_imgs = autoencoder.predict(x_test)\n",
        "plt.figure(figsize=(20, 4))\n",
        "for i in range(n):\n",
        "    # Display original\n",
        "    ax = plt.subplot(2, n, i + 1)\n",
        "    plt.imshow(x_test[i].reshape(28, 28))\n",
        "    # plt.gray()\n",
        "    ax.get_xaxis().set_visible(False)\n",
        "    ax.get_yaxis().set_visible(False)\n",
        "\n",
        "    # Display reconstruction\n",
        "    ax = plt.subplot(2, n, i + 1 + n)\n",
        "    plt.imshow(predicted_imgs[i].reshape(28, 28))\n",
        "    # plt.gray()\n",
        "    ax.get_xaxis().set_visible(False)\n",
        "    ax.get_yaxis().set_visible(False)\n",
        "plt.show()"
      ],
      "metadata": {
        "colab": {
          "base_uri": "https://localhost:8080/",
          "height": 226
        },
        "id": "xuh_3I77PjOu",
        "outputId": "ebca7845-431e-440d-d546-d384ca07de62"
      },
      "execution_count": null,
      "outputs": [
        {
          "output_type": "display_data",
          "data": {
            "text/plain": [
              "<Figure size 1440x288 with 20 Axes>"
            ],
            "image/png": "[encoded data removed]"
          },
          "metadata": {
            "needs_background": "light"
          }
        }
      ]
    },
    {
      "cell_type": "markdown",
      "source": [
        "As you can see, this design is a decent autoencoder. Not the best around, but the output is recognizable. "
      ],
      "metadata": {
        "id": "l4_LyOGgeZLV"
      }
    },
    {
      "cell_type": "code",
      "source": [
        ""
      ],
      "metadata": {
        "id": "VlTZyPNqR1we"
      },
      "execution_count": null,
      "outputs": []
    }
  ]
}