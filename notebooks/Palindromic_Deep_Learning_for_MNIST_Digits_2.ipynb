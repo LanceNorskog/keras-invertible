{
  "nbformat": 4,
  "nbformat_minor": 0,
  "metadata": {
    "colab": {
      "name": "Palindromic Deep Learning for MNIST Digits 2.ipynb",
      "provenance": [],
      "collapsed_sections": []
    },
    "kernelspec": {
      "name": "python3",
      "display_name": "Python 3"
    },
    "language_info": {
      "name": "python"
    }
  },
  "cells": [
    {
      "cell_type": "markdown",
      "source": [
        "Start with a simple multi-stage autoencoder.\n",
        "\n",
        "Uses asinh/sinh as invertible activation function pair. Took some hacking to avoid nan loss!\n",
        "\n",
        "https://blog.keras.io/building-autoencoders-in-keras.html"
      ],
      "metadata": {
        "id": "cKDtwP6aK3AX"
      }
    },
    {
      "cell_type": "code",
      "execution_count": 1,
      "metadata": {
        "id": "O6-EZfoSkDis"
      },
      "outputs": [],
      "source": [
        "import numpy as np\n",
        "import tensorflow as tf\n",
        "from tensorflow.python.ops import nn\n",
        "import keras\n",
        "from keras import layers\n",
        "from keras.datasets import mnist\n"
      ]
    },
    {
      "cell_type": "code",
      "source": [
        "\n",
        "(x_train, _), (x_test, _) = mnist.load_data()\n",
        "x_train = x_train.astype('float32') / 255.\n",
        "x_test = x_test.astype('float32') / 255.\n",
        "x_train = x_train.reshape((len(x_train), np.prod(x_train.shape[1:])))\n",
        "x_test = x_test.reshape((len(x_test), np.prod(x_test.shape[1:])))\n",
        "print(x_train.shape)\n",
        "print(x_test.shape)\n"
      ],
      "metadata": {
        "colab": {
          "base_uri": "https://localhost:8080/"
        },
        "id": "WCuLZ05oklTv",
        "outputId": "37822af7-1e2e-42b1-a433-5b4f5fcdb615"
      },
      "execution_count": 2,
      "outputs": [
        {
          "output_type": "stream",
          "name": "stdout",
          "text": [
            "(60000, 784)\n",
            "(10000, 784)\n"
          ]
        }
      ]
    },
    {
      "cell_type": "code",
      "source": [
        "def create_model():\n",
        "    input_img = keras.Input(shape=(784,))\n",
        "    encoded = layers.Dense(128, activation='sigmoid')(input_img)\n",
        "    encoded = layers.Dense(64, activation='sigmoid')(encoded)\n",
        "    encoded = layers.Dense(32, activation='sigmoid')(encoded)\n",
        "\n",
        "    decoded = layers.Dense(64, activation='sigmoid')(encoded)\n",
        "    decoded = layers.Dense(128, activation='sigmoid')(decoded)\n",
        "    decoded = layers.Dense(784, activation='sigmoid')(decoded)\n",
        "\n",
        "    autoencoder = keras.Model(input_img, decoded)\n",
        "    autoencoder.compile(optimizer='adam', loss='mae')\n",
        "    autoencoder.summary()\n",
        "    return autoencoder\n"
      ],
      "metadata": {
        "id": "_7EusGw9l35D"
      },
      "execution_count": 3,
      "outputs": []
    },
    {
      "cell_type": "code",
      "source": [
        "num_epochs = 10\n",
        "autoencoder = create_model()\n",
        "\n",
        "autoencoder.fit(x_train, x_train,\n",
        "                epochs=num_epochs,\n",
        "                batch_size=256,\n",
        "                shuffle=True,\n",
        "                validation_data=(x_test, x_test))\n"
      ],
      "metadata": {
        "colab": {
          "base_uri": "https://localhost:8080/"
        },
        "id": "qENqIHumknn3",
        "outputId": "6a916b20-2b8a-48d4-8569-ad5b6f039009"
      },
      "execution_count": 4,
      "outputs": [
        {
          "output_type": "stream",
          "name": "stdout",
          "text": [
            "Model: \"model\"\n",
            "_________________________________________________________________\n",
            " Layer (type)                Output Shape              Param #   \n",
            "=================================================================\n",
            " input_1 (InputLayer)        [(None, 784)]             0         \n",
            "                                                                 \n",
            " dense (Dense)               (None, 128)               100480    \n",
            "                                                                 \n",
            " dense_1 (Dense)             (None, 64)                8256      \n",
            "                                                                 \n",
            " dense_2 (Dense)             (None, 32)                2080      \n",
            "                                                                 \n",
            " dense_3 (Dense)             (None, 64)                2112      \n",
            "                                                                 \n",
            " dense_4 (Dense)             (None, 128)               8320      \n",
            "                                                                 \n",
            " dense_5 (Dense)             (None, 784)               101136    \n",
            "                                                                 \n",
            "=================================================================\n",
            "Total params: 222,384\n",
            "Trainable params: 222,384\n",
            "Non-trainable params: 0\n",
            "_________________________________________________________________\n",
            "Epoch 1/10\n",
            "235/235 [==============================] - 5s 20ms/step - loss: 0.2911 - val_loss: 0.2633\n",
            "Epoch 2/10\n",
            "235/235 [==============================] - 4s 19ms/step - loss: 0.2629 - val_loss: 0.2607\n",
            "Epoch 3/10\n",
            "235/235 [==============================] - 5s 21ms/step - loss: 0.2590 - val_loss: 0.2565\n",
            "Epoch 4/10\n",
            "235/235 [==============================] - 4s 18ms/step - loss: 0.2508 - val_loss: 0.2444\n",
            "Epoch 5/10\n",
            "235/235 [==============================] - 3s 12ms/step - loss: 0.2427 - val_loss: 0.2404\n",
            "Epoch 6/10\n",
            "235/235 [==============================] - 3s 12ms/step - loss: 0.2392 - val_loss: 0.2369\n",
            "Epoch 7/10\n",
            "235/235 [==============================] - 3s 12ms/step - loss: 0.2363 - val_loss: 0.2323\n",
            "Epoch 8/10\n",
            "235/235 [==============================] - 3s 12ms/step - loss: 0.2270 - val_loss: 0.2215\n",
            "Epoch 9/10\n",
            "235/235 [==============================] - 3s 12ms/step - loss: 0.2199 - val_loss: 0.2166\n",
            "Epoch 10/10\n",
            "235/235 [==============================] - 3s 12ms/step - loss: 0.2149 - val_loss: 0.2120\n"
          ]
        },
        {
          "output_type": "execute_result",
          "data": {
            "text/plain": [
              "<keras.callbacks.History at 0x7f16580a9310>"
            ]
          },
          "metadata": {},
          "execution_count": 4
        }
      ]
    },
    {
      "cell_type": "code",
      "source": [
        "# https://github.com/nanopony/keras-convautoencoder/blob/master/autoencoder_layers.py\n",
        "class DependentForward(layers.Dense):\n",
        "    def __init__(self, output_dim, master_layer, input_dim=None, **kwargs):\n",
        "        self.master_layer = master_layer\n",
        "        super(DependentDense,self).__init__(output_dim, **kwargs)\n",
        "\n",
        "    def build(self):\n",
        "        self.W = self.master_layer.W.T\n",
        "        self.params = []\n"
      ],
      "metadata": {
        "id": "-ftl0KaLov1P"
      },
      "execution_count": 5,
      "outputs": []
    },
    {
      "cell_type": "code",
      "source": [
        "class DependentBias(layers.Layer):\n",
        "    def __init__(self, master_layer, **kwargs):\n",
        "        self.master_layer = master_layer\n",
        "        super(DependentBias,self).__init__(**kwargs)\n",
        "\n",
        "    def call(self, inputs):\n",
        "        out = inputs - self.master_layer.b\n",
        "        print('call: out', out)\n",
        "        return out\n"
      ],
      "metadata": {
        "id": "T8pVaeGCp1cj"
      },
      "execution_count": 6,
      "outputs": []
    },
    {
      "cell_type": "code",
      "source": [
        "def linear(x):\n",
        "  return x\n",
        "\n",
        "def sinh(x):\n",
        "    return tf.math.sinh(x + 0.00001)\n",
        "\n",
        "def asinh(x):\n",
        "    return tf.math.asinh(x - 0.00001)\n",
        "\n",
        "inverses = { 'sinh': asinh, 'asinh': sinh, sinh: asinh, asinh: sinh}"
      ],
      "metadata": {
        "id": "DiB-ov34-MVR"
      },
      "execution_count": 31,
      "outputs": []
    },
    {
      "cell_type": "code",
      "source": [
        "values = tf.Variable(np.asarray((np.arange(50) - 25)/10))\n",
        "print(values)\n",
        "for act in [sinh, asinh]:\n",
        "    inverted = act(values)\n",
        "    print('inverted', inverted)\n",
        "    print('delta', values - inverted)"
      ],
      "metadata": {
        "id": "AiJSs4TRJW7D",
        "colab": {
          "base_uri": "https://localhost:8080/"
        },
        "outputId": "52c39a26-38eb-47d2-abdf-e68780d5bc59"
      },
      "execution_count": 32,
      "outputs": [
        {
          "output_type": "stream",
          "name": "stdout",
          "text": [
            "<tf.Variable 'Variable:0' shape=(50,) dtype=float64, numpy=\n",
            "array([-2.5, -2.4, -2.3, -2.2, -2.1, -2. , -1.9, -1.8, -1.7, -1.6, -1.5,\n",
            "       -1.4, -1.3, -1.2, -1.1, -1. , -0.9, -0.8, -0.7, -0.6, -0.5, -0.4,\n",
            "       -0.3, -0.2, -0.1,  0. ,  0.1,  0.2,  0.3,  0.4,  0.5,  0.6,  0.7,\n",
            "        0.8,  0.9,  1. ,  1.1,  1.2,  1.3,  1.4,  1.5,  1.6,  1.7,  1.8,\n",
            "        1.9,  2. ,  2.1,  2.2,  2.3,  2.4])>\n",
            "inverted tf.Tensor(\n",
            "[-6.05014316e+00 -5.46617364e+00 -4.93691143e+00 -4.45705949e+00\n",
            " -4.02181530e+00 -3.62682279e+00 -3.26812873e+00 -2.94214321e+00\n",
            " -2.64560365e+00 -2.37554218e+00 -2.12925593e+00 -1.90427999e+00\n",
            " -1.69836273e+00 -1.50944325e+00 -1.33563079e+00 -1.17518576e+00\n",
            " -1.02650239e+00 -8.88092608e-01 -7.58571150e-01 -6.36641728e-01\n",
            " -5.21084029e-01 -4.10741515e-01 -3.04509840e-01 -2.01325802e-01\n",
            " -1.00156700e-01  1.00000000e-05  1.00176800e-01  2.01346203e-01\n",
            "  3.04530747e-01  4.10763137e-01  5.21106582e-01  6.36665437e-01\n",
            "  7.58596254e-01  8.88119357e-01  1.02653106e+00  1.17521662e+00\n",
            "  1.33566416e+00  1.50947946e+00  1.69840215e+00  1.90432301e+00\n",
            "  2.12930298e+00  2.37559373e+00  2.64566022e+00  2.94220536e+00\n",
            "  3.26819709e+00  3.62689803e+00  4.02189819e+00  4.45715085e+00\n",
            "  4.93701218e+00  5.46628478e+00], shape=(50,), dtype=float64)\n",
            "delta tf.Tensor(\n",
            "[ 3.55014316e+00  3.06617364e+00  2.63691143e+00  2.25705949e+00\n",
            "  1.92181530e+00  1.62682279e+00  1.36812873e+00  1.14214321e+00\n",
            "  9.45603651e-01  7.75542179e-01  6.29255931e-01  5.04279993e-01\n",
            "  3.98362728e-01  3.09443249e-01  2.35630785e-01  1.75185763e-01\n",
            "  1.26502395e-01  8.80926079e-02  5.85711502e-02  3.66417275e-02\n",
            "  2.10840293e-02  1.07415151e-02  4.50984008e-03  1.32580188e-03\n",
            "  1.56699983e-04 -1.00000000e-05 -1.76800067e-04 -1.34620322e-03\n",
            " -4.53074685e-03 -1.07631365e-02 -2.11065818e-02 -3.66654368e-02\n",
            " -5.85962536e-02 -8.81193566e-02 -1.26531057e-01 -1.75216625e-01\n",
            " -2.35664155e-01 -3.09479462e-01 -3.98402147e-01 -5.04323011e-01\n",
            " -6.29302979e-01 -7.75593728e-01 -9.45660217e-01 -1.14220536e+00\n",
            " -1.36819709e+00 -1.62689803e+00 -1.92189819e+00 -2.25715085e+00\n",
            " -2.63701218e+00 -3.06628478e+00], shape=(50,), dtype=float64)\n",
            "inverted tf.Tensor(\n",
            "[-1.64723486e+00 -1.60944176e+00 -1.57028253e+00 -1.52966463e+00\n",
            " -1.48748714e+00 -1.44363995e+00 -1.39800302e+00 -1.35044560e+00\n",
            " -1.30082550e+00 -1.24898863e+00 -1.19476876e+00 -1.13798786e+00\n",
            " -1.07845716e+00 -1.01597954e+00 -9.50353657e-01 -8.81380658e-01\n",
            " -8.08874369e-01 -7.32676065e-01 -6.52674758e-01 -5.68833474e-01\n",
            " -4.81220769e-01 -3.90044605e-01 -2.95682626e-01 -1.98699916e-01\n",
            " -9.98440293e-02 -1.00000000e-05  9.98241285e-02  1.98680305e-01\n",
            "  2.95663469e-01  3.90026035e-01  4.81202881e-01  5.68816324e-01\n",
            "  6.52658374e-01  7.32660447e-01  8.08859503e-01  8.81366516e-01\n",
            "  9.50340203e-01  1.01596673e+00  1.07844496e+00  1.13797623e+00\n",
            "  1.19475767e+00  1.24897803e+00  1.30081536e+00  1.35043588e+00\n",
            "  1.39799371e+00  1.44363100e+00  1.48747854e+00  1.52965636e+00\n",
            "  1.57027456e+00  1.60943407e+00], shape=(50,), dtype=float64)\n",
            "delta tf.Tensor(\n",
            "[-8.52765140e-01 -7.90558241e-01 -7.29717469e-01 -6.70335367e-01\n",
            " -6.12512864e-01 -5.56360053e-01 -5.01996977e-01 -4.49554403e-01\n",
            " -3.99174503e-01 -3.51011372e-01 -3.05231236e-01 -2.62012141e-01\n",
            " -2.21542844e-01 -1.84020464e-01 -1.49646343e-01 -1.18619342e-01\n",
            " -9.11256314e-02 -6.73239353e-02 -4.73252416e-02 -3.11665264e-02\n",
            " -1.87792307e-02 -9.95539548e-03 -4.31737419e-03 -1.30008385e-03\n",
            " -1.55970734e-04  1.00000000e-05  1.75871478e-04  1.31969547e-03\n",
            "  4.33653071e-03  9.97396501e-03  1.87971192e-02  3.11836762e-02\n",
            "  4.73416263e-02  6.73395527e-02  9.11404973e-02  1.18633484e-01\n",
            "  1.49659797e-01  1.84033268e-01  2.21555038e-01  2.62023766e-01\n",
            "  3.05242330e-01  3.51021972e-01  3.99184643e-01  4.49564116e-01\n",
            "  5.02006292e-01  5.56368997e-01  6.12521463e-01  6.70343643e-01\n",
            "  7.29725444e-01  7.90565934e-01], shape=(50,), dtype=float64)\n"
          ]
        }
      ]
    },
    {
      "cell_type": "code",
      "source": [
        "class TiedDense(layers.Layer):\n",
        "    global inverses\n",
        "    def __init__(self, master_layer):\n",
        "        super(TiedDense, self).__init__()\n",
        "        self.master_layer = master_layer\n",
        "\n",
        "    def build(self, input_shape):\n",
        "        activation = self.master_layer.get_config()['activation']\n",
        "        print('activation', activation)\n",
        "        self.inverse_activation = inverses[activation]\n",
        "        print('inverse_activation', self.inverse_activation)\n",
        "        # do not train weights or bias from master_layer, they are read-only\n",
        "        self.params = []\n",
        "        \n",
        "    def call(self, inputs):  # Defines the computation from inputs to outputs\n",
        "        W = self.master_layer._trainable_weights[0]\n",
        "        b = self.master_layer._trainable_weights[1]\n",
        "        w = tf.transpose(W)\n",
        "        return tf.matmul(self.inverse_activation(inputs) - b, w)\n",
        "    "
      ],
      "metadata": {
        "id": "C9LallIk5HHD"
      },
      "execution_count": 33,
      "outputs": []
    },
    {
      "cell_type": "code",
      "source": [
        "def create_palindromic_model(activation_forward):\n",
        "    input_img = keras.Input(shape=(784,))\n",
        "    # crushed = layers.Activation(activation=activation_forward)(input_img)\n",
        "    a = layers.Dense(128, activation=activation_forward)\n",
        "    encoded = a(input_img)\n",
        "    encoded = layers.Dropout(0.2)(encoded)\n",
        "    b = layers.Dense(64, activation=activation_forward)\n",
        "    encoded = b(encoded)\n",
        "    c = layers.Dense(32, activation=activation_forward)\n",
        "    embedding = c(encoded)\n",
        "    # embedding = layers.Dropout(0.2)(embedding)\n",
        "\n",
        "    decoded = TiedDense(c)(embedding)\n",
        "    decoded = TiedDense(b)(decoded)\n",
        "    decoded = TiedDense(a)(decoded)\n",
        "    decoded = layers.Activation(activation='sigmoid')(decoded)\n",
        "\n",
        "    autoencoder = keras.Model(input_img, decoded)\n",
        "    autoencoder.compile(optimizer='adam', loss='binary_crossentropy')\n",
        "    autoencoder.summary()\n",
        "    # autoencoder.layers[-1].trainable = False\n",
        "    # autoencoder.layers[-2].trainable = False\n",
        "    # autoencoder.layers[-3].trainable = False\n",
        "    return autoencoder\n"
      ],
      "metadata": {
        "id": "ZVpLJHQEpDwO"
      },
      "execution_count": 51,
      "outputs": []
    },
    {
      "cell_type": "code",
      "source": [
        "activation_forward = asinh\n",
        "num_epochs = 50\n",
        "autoencoder = create_palindromic_model(activation_forward)\n",
        "\n",
        "autoencoder.fit(x_train, x_train,\n",
        "                epochs=num_epochs,\n",
        "                batch_size=256,\n",
        "                shuffle=True,\n",
        "                validation_data=(x_test, x_test))\n"
      ],
      "metadata": {
        "colab": {
          "base_uri": "https://localhost:8080/"
        },
        "id": "y8AHMi-ttlDJ",
        "outputId": "d7b3a9fe-20ab-4675-9e60-c2655d3a5356"
      },
      "execution_count": 55,
      "outputs": [
        {
          "output_type": "stream",
          "name": "stdout",
          "text": [
            "activation asinh\n",
            "inverse_activation <function sinh at 0x7f164db59dd0>\n",
            "activation asinh\n",
            "inverse_activation <function sinh at 0x7f164db59dd0>\n",
            "activation asinh\n",
            "inverse_activation <function sinh at 0x7f164db59dd0>\n",
            "Model: \"model_14\"\n",
            "_________________________________________________________________\n",
            " Layer (type)                Output Shape              Param #   \n",
            "=================================================================\n",
            " input_17 (InputLayer)       [(None, 784)]             0         \n",
            "                                                                 \n",
            " dense_51 (Dense)            (None, 128)               100480    \n",
            "                                                                 \n",
            " dropout_10 (Dropout)        (None, 128)               0         \n",
            "                                                                 \n",
            " dense_52 (Dense)            (None, 64)                8256      \n",
            "                                                                 \n",
            " dense_53 (Dense)            (None, 32)                2080      \n",
            "                                                                 \n",
            " tied_dense_41 (TiedDense)   (None, 64)                2080      \n",
            "                                                                 \n",
            " tied_dense_42 (TiedDense)   (None, 128)               8256      \n",
            "                                                                 \n",
            " tied_dense_43 (TiedDense)   (None, 784)               100480    \n",
            "                                                                 \n",
            " activation_1 (Activation)   (None, 784)               0         \n",
            "                                                                 \n",
            "=================================================================\n",
            "Total params: 110,816\n",
            "Trainable params: 110,816\n",
            "Non-trainable params: 0\n",
            "_________________________________________________________________\n",
            "Epoch 1/50\n",
            "235/235 [==============================] - 5s 20ms/step - loss: 0.2792 - val_loss: 0.1685\n",
            "Epoch 2/50\n",
            "235/235 [==============================] - 5s 19ms/step - loss: 0.1603 - val_loss: 0.1382\n",
            "Epoch 3/50\n",
            "235/235 [==============================] - 5s 19ms/step - loss: 0.1404 - val_loss: 0.1257\n",
            "Epoch 4/50\n",
            "235/235 [==============================] - 5s 20ms/step - loss: 0.1301 - val_loss: 0.1144\n",
            "Epoch 5/50\n",
            "235/235 [==============================] - 5s 19ms/step - loss: 0.1235 - val_loss: 0.1099\n",
            "Epoch 6/50\n",
            "235/235 [==============================] - 5s 19ms/step - loss: 0.1193 - val_loss: 0.1099\n",
            "Epoch 7/50\n",
            "235/235 [==============================] - 5s 19ms/step - loss: 0.1164 - val_loss: 0.1039\n",
            "Epoch 8/50\n",
            "235/235 [==============================] - 5s 19ms/step - loss: 0.1141 - val_loss: 0.1019\n",
            "Epoch 9/50\n",
            "235/235 [==============================] - 5s 21ms/step - loss: 0.1123 - val_loss: 0.1016\n",
            "Epoch 10/50\n",
            "235/235 [==============================] - 5s 20ms/step - loss: 0.1107 - val_loss: 0.0986\n",
            "Epoch 11/50\n",
            "235/235 [==============================] - 4s 19ms/step - loss: 0.1094 - val_loss: 0.0967\n",
            "Epoch 12/50\n",
            "235/235 [==============================] - 4s 19ms/step - loss: 0.1083 - val_loss: 0.0959\n",
            "Epoch 13/50\n",
            "235/235 [==============================] - 5s 20ms/step - loss: 0.1073 - val_loss: 0.0947\n",
            "Epoch 14/50\n",
            "235/235 [==============================] - 5s 20ms/step - loss: 0.1063 - val_loss: 0.0937\n",
            "Epoch 15/50\n",
            "235/235 [==============================] - 5s 19ms/step - loss: 0.1056 - val_loss: 0.0935\n",
            "Epoch 16/50\n",
            "235/235 [==============================] - 4s 19ms/step - loss: 0.1047 - val_loss: 0.0933\n",
            "Epoch 17/50\n",
            "235/235 [==============================] - 5s 20ms/step - loss: 0.1040 - val_loss: 0.0923\n",
            "Epoch 18/50\n",
            "235/235 [==============================] - 5s 19ms/step - loss: 0.1034 - val_loss: 0.0925\n",
            "Epoch 19/50\n",
            "235/235 [==============================] - 5s 20ms/step - loss: 0.1029 - val_loss: 0.0918\n",
            "Epoch 20/50\n",
            "235/235 [==============================] - 5s 20ms/step - loss: 0.1022 - val_loss: 0.0906\n",
            "Epoch 21/50\n",
            "235/235 [==============================] - 5s 20ms/step - loss: 0.1018 - val_loss: 0.0910\n",
            "Epoch 22/50\n",
            "235/235 [==============================] - 5s 20ms/step - loss: 0.1014 - val_loss: 0.0900\n",
            "Epoch 23/50\n",
            "235/235 [==============================] - 5s 19ms/step - loss: 0.1010 - val_loss: 0.0895\n",
            "Epoch 24/50\n",
            "235/235 [==============================] - 5s 19ms/step - loss: 0.1006 - val_loss: 0.0892\n",
            "Epoch 25/50\n",
            "235/235 [==============================] - 5s 19ms/step - loss: 0.1002 - val_loss: 0.0886\n",
            "Epoch 26/50\n",
            "235/235 [==============================] - 5s 19ms/step - loss: 0.1000 - val_loss: 0.0886\n",
            "Epoch 27/50\n",
            "235/235 [==============================] - 5s 19ms/step - loss: 0.0997 - val_loss: 0.0881\n",
            "Epoch 28/50\n",
            "235/235 [==============================] - 5s 20ms/step - loss: 0.0994 - val_loss: 0.0883\n",
            "Epoch 29/50\n",
            "235/235 [==============================] - 5s 19ms/step - loss: 0.0992 - val_loss: 0.0882\n",
            "Epoch 30/50\n",
            "235/235 [==============================] - 5s 20ms/step - loss: 0.0989 - val_loss: 0.0876\n",
            "Epoch 31/50\n",
            "235/235 [==============================] - 5s 20ms/step - loss: 0.0987 - val_loss: 0.0878\n",
            "Epoch 32/50\n",
            "235/235 [==============================] - 5s 20ms/step - loss: 0.0985 - val_loss: 0.0878\n",
            "Epoch 33/50\n",
            "235/235 [==============================] - 5s 20ms/step - loss: 0.0983 - val_loss: 0.0872\n",
            "Epoch 34/50\n",
            "235/235 [==============================] - 5s 20ms/step - loss: 0.0981 - val_loss: 0.0869\n",
            "Epoch 35/50\n",
            "235/235 [==============================] - 5s 19ms/step - loss: 0.0979 - val_loss: 0.0872\n",
            "Epoch 36/50\n",
            "235/235 [==============================] - 5s 20ms/step - loss: 0.0977 - val_loss: 0.0869\n",
            "Epoch 37/50\n",
            "235/235 [==============================] - 5s 19ms/step - loss: 0.0977 - val_loss: 0.0869\n",
            "Epoch 38/50\n",
            "235/235 [==============================] - 5s 19ms/step - loss: 0.0975 - val_loss: 0.0863\n",
            "Epoch 39/50\n",
            "235/235 [==============================] - 5s 20ms/step - loss: 0.0973 - val_loss: 0.0864\n",
            "Epoch 40/50\n",
            "235/235 [==============================] - 5s 20ms/step - loss: 0.0972 - val_loss: 0.0868\n",
            "Epoch 41/50\n",
            "235/235 [==============================] - 5s 19ms/step - loss: 0.0970 - val_loss: 0.0861\n",
            "Epoch 42/50\n",
            "235/235 [==============================] - 5s 19ms/step - loss: 0.0970 - val_loss: 0.0860\n",
            "Epoch 43/50\n",
            "235/235 [==============================] - 5s 19ms/step - loss: 0.0968 - val_loss: 0.0860\n",
            "Epoch 44/50\n",
            "235/235 [==============================] - 5s 19ms/step - loss: 0.0967 - val_loss: 0.0861\n",
            "Epoch 45/50\n",
            "235/235 [==============================] - 5s 20ms/step - loss: 0.0966 - val_loss: 0.0858\n",
            "Epoch 46/50\n",
            "235/235 [==============================] - 5s 22ms/step - loss: 0.0965 - val_loss: 0.0856\n",
            "Epoch 47/50\n",
            "235/235 [==============================] - 5s 20ms/step - loss: 0.0963 - val_loss: 0.0856\n",
            "Epoch 48/50\n",
            "235/235 [==============================] - 5s 19ms/step - loss: 0.0963 - val_loss: 0.0854\n",
            "Epoch 49/50\n",
            "235/235 [==============================] - 5s 20ms/step - loss: 0.0962 - val_loss: 0.0853\n",
            "Epoch 50/50\n",
            "235/235 [==============================] - 5s 20ms/step - loss: 0.0961 - val_loss: 0.0853\n"
          ]
        },
        {
          "output_type": "execute_result",
          "data": {
            "text/plain": [
              "<keras.callbacks.History at 0x7f163bbf5890>"
            ]
          },
          "metadata": {},
          "execution_count": 55
        }
      ]
    },
    {
      "cell_type": "code",
      "source": [
        "\n",
        "predicted_imgs = autoencoder.predict(x_test)\n",
        "# decoded_imgs = autoencoder.predict(encoded_imgs)"
      ],
      "metadata": {
        "id": "tnogr4ppuxl2"
      },
      "execution_count": 56,
      "outputs": []
    },
    {
      "cell_type": "code",
      "source": [
        "# Use Matplotlib (don't ask)\n",
        "import matplotlib.pyplot as plt\n",
        "\n",
        "n = 10  # How many digits we will display\n",
        "plt.figure(figsize=(20, 4))\n",
        "for i in range(n):\n",
        "    # Display original\n",
        "    ax = plt.subplot(2, n, i + 1)\n",
        "    plt.imshow(x_test[i].reshape(28, 28))\n",
        "    plt.gray()\n",
        "    ax.get_xaxis().set_visible(False)\n",
        "    ax.get_yaxis().set_visible(False)\n",
        "\n",
        "    # Display reconstruction\n",
        "    ax = plt.subplot(2, n, i + 1 + n)\n",
        "    plt.imshow(predicted_imgs[i].reshape(28, 28))\n",
        "    plt.gray()\n",
        "    ax.get_xaxis().set_visible(False)\n",
        "    ax.get_yaxis().set_visible(False)\n",
        "plt.show()\n"
      ],
      "metadata": {
        "id": "UXO0OBW3CNYF",
        "colab": {
          "base_uri": "https://localhost:8080/",
          "height": 248
        },
        "outputId": "ee396150-4937-4c5d-da8d-78dd85dd3d22"
      },
      "execution_count": 57,
      "outputs": [
        {
          "output_type": "display_data",
          "data": {
            "text/plain": [
              "<Figure size 1440x288 with 20 Axes>"
            ],
            "image/png": "[encoded data removed]"
          },
          "metadata": {
            "needs_background": "light"
          }
        }
      ]
    },
    {
      "cell_type": "code",
      "source": [
        ""
      ],
      "metadata": {
        "id": "OczYkz9SoVJ2"
      },
      "execution_count": 57,
      "outputs": []
    }
  ]
}