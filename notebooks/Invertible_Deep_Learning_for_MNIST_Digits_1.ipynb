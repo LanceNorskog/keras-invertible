{
  "nbformat": 4,
  "nbformat_minor": 0,
  "metadata": {
    "colab": {
      "name": "Invertible Deep Learning for MNIST Digits 1.ipynb",
      "provenance": [],
      "collapsed_sections": []
    },
    "kernelspec": {
      "name": "python3",
      "display_name": "Python 3"
    },
    "language_info": {
      "name": "python"
    },
    "accelerator": "GPU",
    "gpuClass": "standard"
  },
  "cells": [
    {
      "cell_type": "markdown",
      "source": [
        "Start with a simple multi-stage classifier.\n",
        "\n",
        "Use PReLU to make it invertible.\n",
        "\n",
        "Or LeakyReLU"
      ],
      "metadata": {
        "id": "cKDtwP6aK3AX"
      }
    },
    {
      "cell_type": "code",
      "execution_count": 1,
      "metadata": {
        "id": "O6-EZfoSkDis"
      },
      "outputs": [],
      "source": [
        "import numpy as np\n",
        "import tensorflow as tf\n",
        "from tensorflow.python.ops import nn\n",
        "import keras\n",
        "from keras import layers\n",
        "from keras.datasets import mnist\n"
      ]
    },
    {
      "cell_type": "code",
      "source": [
        "num_classes = 10\n",
        "\n",
        "(x_train, y_train), (x_test, y_test) = mnist.load_data()\n",
        "x_train = x_train.astype('float32') / 255.\n",
        "x_test = x_test.astype('float32') / 255.\n",
        "x_train = x_train.reshape((len(x_train), np.prod(x_train.shape[1:])))\n",
        "x_test = x_test.reshape((len(x_test), np.prod(x_test.shape[1:])))\n",
        "print(x_train.shape)\n",
        "print(x_test.shape)\n",
        "\n",
        "\n",
        "# convert class vectors to binary class matrices\n",
        "y_train = tf.keras.utils.to_categorical(y_train, num_classes)\n",
        "y_test = tf.keras.utils.to_categorical(y_test, num_classes)\n",
        "\n"
      ],
      "metadata": {
        "colab": {
          "base_uri": "https://localhost:8080/"
        },
        "id": "WCuLZ05oklTv",
        "outputId": "8853ebd2-234e-4897-a69a-d952ec3c88d3"
      },
      "execution_count": 2,
      "outputs": [
        {
          "output_type": "stream",
          "name": "stdout",
          "text": [
            "(60000, 784)\n",
            "(10000, 784)\n"
          ]
        }
      ]
    },
    {
      "cell_type": "code",
      "source": [
        "def create_forward_model():\n",
        "    sizes = [48, 32, 16]\n",
        "    kernel_init='he_normal'\n",
        "    kernel_init='glorot_uniform'\n",
        "    paper_init=keras.initializers.Constant(0.25)\n",
        "    input_img = keras.Input(shape=(784,))\n",
        "    x = layers.Dense(sizes[0], kernel_initializer=kernel_init, name='dense_a')(input_img)\n",
        "    x = layers.PReLU(alpha_initializer=paper_init, name='prelu_a')(x)\n",
        "    x = layers.Dense(sizes[1], kernel_initializer=kernel_init, name='dense_b')(x)\n",
        "    x = layers.PReLU(alpha_initializer=paper_init, name='prelu_b')(x)\n",
        "    x = layers.Dense(sizes[2], kernel_initializer=kernel_init, name='dense_c')(x)\n",
        "    x = layers.PReLU(alpha_initializer=paper_init, name='prelu_c')(x)\n",
        "    x = layers.Dropout(0.1)(x)\n",
        "    x = layers.Dense(num_classes, kernel_initializer=kernel_init, name='dense_output')(x)\n",
        "    x = layers.Activation(\"softmax\")(x)\n",
        "\n",
        "    model = keras.Model(input_img, x)\n",
        "    model.compile(optimizer='adam', loss='categorical_crossentropy', metrics=[\"accuracy\"])\n",
        "    model.summary()\n",
        "    return model\n"
      ],
      "metadata": {
        "id": "_7EusGw9l35D"
      },
      "execution_count": 3,
      "outputs": []
    },
    {
      "cell_type": "code",
      "source": [
        "forward_model = create_forward_model()\n",
        "forward_model.fit(x_train, y_train,\n",
        "                epochs=20,\n",
        "                batch_size=256,\n",
        "                shuffle=True,\n",
        "          validation_split=0.1)\n",
        "_, accuracy = forward_model.evaluate(x_test, y_test, verbose=0)\n",
        "print('Test accuracy:', accuracy)"
      ],
      "metadata": {
        "id": "T8pVaeGCp1cj",
        "colab": {
          "base_uri": "https://localhost:8080/"
        },
        "outputId": "461ff793-4b19-47ac-daaf-eef4d0502c80"
      },
      "execution_count": 4,
      "outputs": [
        {
          "output_type": "stream",
          "name": "stdout",
          "text": [
            "Model: \"model\"\n",
            "_________________________________________________________________\n",
            " Layer (type)                Output Shape              Param #   \n",
            "=================================================================\n",
            " input_1 (InputLayer)        [(None, 784)]             0         \n",
            "                                                                 \n",
            " dense_a (Dense)             (None, 48)                37680     \n",
            "                                                                 \n",
            " prelu_a (PReLU)             (None, 48)                48        \n",
            "                                                                 \n",
            " dense_b (Dense)             (None, 32)                1568      \n",
            "                                                                 \n",
            " prelu_b (PReLU)             (None, 32)                32        \n",
            "                                                                 \n",
            " dense_c (Dense)             (None, 16)                528       \n",
            "                                                                 \n",
            " prelu_c (PReLU)             (None, 16)                16        \n",
            "                                                                 \n",
            " dropout (Dropout)           (None, 16)                0         \n",
            "                                                                 \n",
            " dense_output (Dense)        (None, 10)                170       \n",
            "                                                                 \n",
            " activation (Activation)     (None, 10)                0         \n",
            "                                                                 \n",
            "=================================================================\n",
            "Total params: 40,042\n",
            "Trainable params: 40,042\n",
            "Non-trainable params: 0\n",
            "_________________________________________________________________\n",
            "Epoch 1/20\n",
            "211/211 [==============================] - 3s 8ms/step - loss: 0.7572 - accuracy: 0.7719 - val_loss: 0.2743 - val_accuracy: 0.9195\n",
            "Epoch 2/20\n",
            "211/211 [==============================] - 1s 7ms/step - loss: 0.3310 - accuracy: 0.9018 - val_loss: 0.2058 - val_accuracy: 0.9393\n",
            "Epoch 3/20\n",
            "211/211 [==============================] - 2s 7ms/step - loss: 0.2561 - accuracy: 0.9248 - val_loss: 0.1665 - val_accuracy: 0.9525\n",
            "Epoch 4/20\n",
            "211/211 [==============================] - 1s 6ms/step - loss: 0.2059 - accuracy: 0.9386 - val_loss: 0.1399 - val_accuracy: 0.9618\n",
            "Epoch 5/20\n",
            "211/211 [==============================] - 1s 6ms/step - loss: 0.1695 - accuracy: 0.9495 - val_loss: 0.1266 - val_accuracy: 0.9668\n",
            "Epoch 6/20\n",
            "211/211 [==============================] - 2s 8ms/step - loss: 0.1453 - accuracy: 0.9572 - val_loss: 0.1139 - val_accuracy: 0.9693\n",
            "Epoch 7/20\n",
            "211/211 [==============================] - 2s 8ms/step - loss: 0.1266 - accuracy: 0.9630 - val_loss: 0.1027 - val_accuracy: 0.9708\n",
            "Epoch 8/20\n",
            "211/211 [==============================] - 2s 7ms/step - loss: 0.1118 - accuracy: 0.9665 - val_loss: 0.1063 - val_accuracy: 0.9697\n",
            "Epoch 9/20\n",
            "211/211 [==============================] - 2s 7ms/step - loss: 0.1006 - accuracy: 0.9697 - val_loss: 0.0999 - val_accuracy: 0.9727\n",
            "Epoch 10/20\n",
            "211/211 [==============================] - 1s 7ms/step - loss: 0.0903 - accuracy: 0.9729 - val_loss: 0.0982 - val_accuracy: 0.9712\n",
            "Epoch 11/20\n",
            "211/211 [==============================] - 1s 7ms/step - loss: 0.0823 - accuracy: 0.9744 - val_loss: 0.0953 - val_accuracy: 0.9740\n",
            "Epoch 12/20\n",
            "211/211 [==============================] - 1s 6ms/step - loss: 0.0730 - accuracy: 0.9781 - val_loss: 0.0998 - val_accuracy: 0.9732\n",
            "Epoch 13/20\n",
            "211/211 [==============================] - 2s 8ms/step - loss: 0.0689 - accuracy: 0.9789 - val_loss: 0.0959 - val_accuracy: 0.9722\n",
            "Epoch 14/20\n",
            "211/211 [==============================] - 1s 6ms/step - loss: 0.0628 - accuracy: 0.9805 - val_loss: 0.0994 - val_accuracy: 0.9722\n",
            "Epoch 15/20\n",
            "211/211 [==============================] - 1s 4ms/step - loss: 0.0567 - accuracy: 0.9820 - val_loss: 0.0954 - val_accuracy: 0.9747\n",
            "Epoch 16/20\n",
            "211/211 [==============================] - 1s 4ms/step - loss: 0.0516 - accuracy: 0.9835 - val_loss: 0.0933 - val_accuracy: 0.9757\n",
            "Epoch 17/20\n",
            "211/211 [==============================] - 1s 4ms/step - loss: 0.0486 - accuracy: 0.9847 - val_loss: 0.0983 - val_accuracy: 0.9770\n",
            "Epoch 18/20\n",
            "211/211 [==============================] - 1s 4ms/step - loss: 0.0435 - accuracy: 0.9868 - val_loss: 0.0962 - val_accuracy: 0.9765\n",
            "Epoch 19/20\n",
            "211/211 [==============================] - 1s 4ms/step - loss: 0.0420 - accuracy: 0.9866 - val_loss: 0.0999 - val_accuracy: 0.9772\n",
            "Epoch 20/20\n",
            "211/211 [==============================] - 1s 4ms/step - loss: 0.0402 - accuracy: 0.9875 - val_loss: 0.1066 - val_accuracy: 0.9745\n",
            "Test accuracy: 0.9713000059127808\n"
          ]
        }
      ]
    },
    {
      "cell_type": "code",
      "source": [
        "class InvertedDense(layers.Layer):\n",
        "    def __init__(self, master_layer):\n",
        "        super(InvertedDense, self).__init__()\n",
        "        self.master_layer = master_layer\n",
        "\n",
        "    def build(self, input_shape):\n",
        "        # do not train weights or bias from master_layer, they are read-only\n",
        "        self.params = []\n",
        "        \n",
        "    def call(self, inputs):  # Defines the computation from inputs to outputs\n",
        "        W = self.master_layer._trainable_weights[0]\n",
        "        b = self.master_layer._trainable_weights[1]\n",
        "        w = tf.transpose(W)\n",
        "        return tf.matmul(inputs - b, w)\n",
        "    "
      ],
      "metadata": {
        "id": "C9LallIk5HHD"
      },
      "execution_count": 5,
      "outputs": []
    },
    {
      "cell_type": "code",
      "source": [
        "class InvertedPReLU(layers.Layer):\n",
        "    def __init__(self, master_layer):\n",
        "        super(InvertedPReLU, self).__init__()\n",
        "        self.master_layer = master_layer\n",
        "\n",
        "    def build(self, input_shape):\n",
        "        # do not train weights or bias from master_layer, they are read-only\n",
        "        self.params = []\n",
        "\n",
        "    def call(self, inputs):\n",
        "        alpha = 1/(self.master_layer.alpha + 0.00001)\n",
        "        pos = keras.backend.relu(inputs)\n",
        "        neg = -alpha * keras.backend.relu(-inputs)\n",
        "        return pos + neg\n"
      ],
      "metadata": {
        "id": "IZ8KUvUqy2rj"
      },
      "execution_count": 6,
      "outputs": []
    },
    {
      "cell_type": "code",
      "source": [
        "def create_inverted_model(forward_model):\n",
        "    input_label = keras.Input(shape=(num_classes,))\n",
        "    forward_layers = {}\n",
        "    for l in forward_model.layers:\n",
        "        forward_layers[l.name] = l\n",
        "\n",
        "    # No need to \"invert\" softmax, input is in logits format (0,0,1,0,0)\n",
        "    x = InvertedDense(forward_layers['dense_output'])(input_label)\n",
        "    x = InvertedPReLU(forward_layers['prelu_c'])(x)\n",
        "    x = InvertedDense(forward_layers['dense_c'])(x)\n",
        "    x = InvertedPReLU(forward_layers['prelu_b'])(x)\n",
        "    x = InvertedDense(forward_layers['dense_b'])(x)\n",
        "    x = InvertedPReLU(forward_layers['prelu_a'])(x)\n",
        "    x = InvertedDense(forward_layers['dense_a'])(x)\n",
        "  \n",
        "    inverted_model = keras.Model(input_label, x)\n",
        "    inverted_model.compile(optimizer='adam', loss='mse')\n",
        "    inverted_model.summary()\n",
        "    return inverted_model\n"
      ],
      "metadata": {
        "id": "ZVpLJHQEpDwO"
      },
      "execution_count": 7,
      "outputs": []
    },
    {
      "cell_type": "code",
      "source": [
        "num_epochs = 300\n",
        "inverted_model = create_inverted_model(forward_model)\n",
        "\n",
        "inverted_model.evaluate(y_test, x_test)\n"
      ],
      "metadata": {
        "colab": {
          "base_uri": "https://localhost:8080/"
        },
        "id": "y8AHMi-ttlDJ",
        "outputId": "248d9f6f-2ddc-4572-a3d6-ac29d3ab646f"
      },
      "execution_count": 8,
      "outputs": [
        {
          "output_type": "stream",
          "name": "stdout",
          "text": [
            "Model: \"model_1\"\n",
            "_________________________________________________________________\n",
            " Layer (type)                Output Shape              Param #   \n",
            "=================================================================\n",
            " input_2 (InputLayer)        [(None, 10)]              0         \n",
            "                                                                 \n",
            " inverted_dense (InvertedDen  (None, 16)               170       \n",
            " se)                                                             \n",
            "                                                                 \n",
            " inverted_p_re_lu (InvertedP  (None, 16)               16        \n",
            " ReLU)                                                           \n",
            "                                                                 \n",
            " inverted_dense_1 (InvertedD  (None, 32)               528       \n",
            " ense)                                                           \n",
            "                                                                 \n",
            " inverted_p_re_lu_1 (Inverte  (None, 32)               32        \n",
            " dPReLU)                                                         \n",
            "                                                                 \n",
            " inverted_dense_2 (InvertedD  (None, 48)               1568      \n",
            " ense)                                                           \n",
            "                                                                 \n",
            " inverted_p_re_lu_2 (Inverte  (None, 48)               48        \n",
            " dPReLU)                                                         \n",
            "                                                                 \n",
            " inverted_dense_3 (InvertedD  (None, 784)              37680     \n",
            " ense)                                                           \n",
            "                                                                 \n",
            "=================================================================\n",
            "Total params: 40,042\n",
            "Trainable params: 40,042\n",
            "Non-trainable params: 0\n",
            "_________________________________________________________________\n",
            "313/313 [==============================] - 1s 2ms/step - loss: 750580.2500\n"
          ]
        },
        {
          "output_type": "execute_result",
          "data": {
            "text/plain": [
              "750580.25"
            ]
          },
          "metadata": {},
          "execution_count": 8
        }
      ]
    },
    {
      "cell_type": "code",
      "source": [
        "\n",
        "predicted_imgs = inverted_model.predict(y_test)\n",
        "print(predicted_imgs.shape)"
      ],
      "metadata": {
        "id": "tnogr4ppuxl2",
        "colab": {
          "base_uri": "https://localhost:8080/"
        },
        "outputId": "f27fe174-5f73-4433-9d29-bdfe47d8da0a"
      },
      "execution_count": 9,
      "outputs": [
        {
          "output_type": "stream",
          "name": "stdout",
          "text": [
            "(10000, 784)\n"
          ]
        }
      ]
    },
    {
      "cell_type": "code",
      "source": [
        "# Use Matplotlib (don't ask)\n",
        "import matplotlib.pyplot as plt\n",
        "\n",
        "n = 10  # How many digits we will display\n",
        "plt.figure(figsize=(20, 4))\n",
        "for i in range(n):\n",
        "    # Display original\n",
        "    ax = plt.subplot(2, n, i + 1)\n",
        "    plt.imshow(x_test[i].reshape(28, 28))\n",
        "    plt.gray()\n",
        "    ax.get_xaxis().set_visible(False)\n",
        "    ax.get_yaxis().set_visible(False)\n",
        "\n",
        "    # Display reconstruction\n",
        "    ax = plt.subplot(2, n, i + 1 + n)\n",
        "    plt.imshow(predicted_imgs[i].reshape(28, 28))\n",
        "    plt.gray()\n",
        "    ax.get_xaxis().set_visible(False)\n",
        "    ax.get_yaxis().set_visible(False)\n",
        "plt.show()\n"
      ],
      "metadata": {
        "id": "UXO0OBW3CNYF",
        "colab": {
          "base_uri": "https://localhost:8080/",
          "height": 248
        },
        "outputId": "c37cb86d-bf46-41c3-c56f-8438d9111cbd"
      },
      "execution_count": 10,
      "outputs": [
        {
          "output_type": "display_data",
          "data": {
            "text/plain": [
              "<Figure size 1440x288 with 20 Axes>"
            ],
            "image/png": "[encoded data removed]"
          },
          "metadata": {
            "needs_background": "light"
          }
        }
      ]
    },
    {
      "cell_type": "code",
      "source": [
        ""
      ],
      "metadata": {
        "id": "OczYkz9SoVJ2"
      },
      "execution_count": 10,
      "outputs": []
    }
  ]
}