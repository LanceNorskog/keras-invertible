{
  "nbformat": 4,
  "nbformat_minor": 0,
  "metadata": {
    "colab": {
      "name": "Palindromic Deep Learning for MNIST Digits 3.ipynb",
      "provenance": [],
      "collapsed_sections": []
    },
    "kernelspec": {
      "name": "python3",
      "display_name": "Python 3"
    },
    "language_info": {
      "name": "python"
    }
  },
  "cells": [
    {
      "cell_type": "markdown",
      "source": [
        "Start with a simple multi-stage autoencoder.\n",
        "\n",
        "Use pRELU since it should be invertible\n",
        "\n",
        "https://blog.keras.io/building-autoencoders-in-keras.html"
      ],
      "metadata": {
        "id": "cKDtwP6aK3AX"
      }
    },
    {
      "cell_type": "code",
      "execution_count": 1,
      "metadata": {
        "id": "O6-EZfoSkDis"
      },
      "outputs": [],
      "source": [
        "import numpy as np\n",
        "import tensorflow as tf\n",
        "from tensorflow.python.ops import nn\n",
        "import keras\n",
        "from keras import layers\n",
        "from keras.datasets import mnist\n"
      ]
    },
    {
      "cell_type": "code",
      "source": [
        "\n",
        "(x_train, _), (x_test, _) = mnist.load_data()\n",
        "x_train = x_train.astype('float32') / 255.\n",
        "x_test = x_test.astype('float32') / 255.\n",
        "x_train = x_train.reshape((len(x_train), np.prod(x_train.shape[1:])))\n",
        "x_test = x_test.reshape((len(x_test), np.prod(x_test.shape[1:])))\n",
        "print(x_train.shape)\n",
        "print(x_test.shape)\n"
      ],
      "metadata": {
        "colab": {
          "base_uri": "https://localhost:8080/"
        },
        "id": "WCuLZ05oklTv",
        "outputId": "597bd94b-9d5b-4cdc-82a4-14e384799710"
      },
      "execution_count": 2,
      "outputs": [
        {
          "output_type": "stream",
          "name": "stdout",
          "text": [
            "(60000, 784)\n",
            "(10000, 784)\n"
          ]
        }
      ]
    },
    {
      "cell_type": "code",
      "source": [
        "def create_model():\n",
        "    input_img = keras.Input(shape=(784,))\n",
        "    encoded = layers.Dense(128)(input_img)\n",
        "    encoded = layers.PReLU()(encoded)\n",
        "    encoded = layers.Dense(64)(encoded)\n",
        "    encoded = layers.PReLU()(encoded)\n",
        "    encoded = layers.Dense(32)(encoded)\n",
        "    encoded = layers.PReLU()(encoded)\n",
        "\n",
        "    decoded = layers.Dense(64)(encoded)\n",
        "    encoded = layers.PReLU()(encoded)\n",
        "    decoded = layers.Dense(128)(decoded)\n",
        "    encoded = layers.PReLU()(encoded)\n",
        "    decoded = layers.Dense(784, activation='sigmoid')(decoded)\n",
        "\n",
        "    autoencoder = keras.Model(input_img, decoded)\n",
        "    autoencoder.compile(optimizer='adam', loss='binary_crossentropy')\n",
        "    autoencoder.summary()\n",
        "    return autoencoder\n"
      ],
      "metadata": {
        "id": "_7EusGw9l35D"
      },
      "execution_count": 3,
      "outputs": []
    },
    {
      "cell_type": "code",
      "source": [
        "model = create_model()\n",
        "model.fit(x_train, x_train,\n",
        "                epochs=5,\n",
        "                batch_size=256,\n",
        "                shuffle=True)\n",
        "prelu = []\n",
        "for layer in model.layers:\n",
        "    if 'p_re_lu' in layer.name:\n",
        "        prelu.append(layer)\n",
        "print(prelu)"
      ],
      "metadata": {
        "id": "T8pVaeGCp1cj",
        "colab": {
          "base_uri": "https://localhost:8080/"
        },
        "outputId": "69144341-f620-4de8-9029-1bec36eb439a"
      },
      "execution_count": 4,
      "outputs": [
        {
          "output_type": "stream",
          "name": "stdout",
          "text": [
            "Model: \"model\"\n",
            "_________________________________________________________________\n",
            " Layer (type)                Output Shape              Param #   \n",
            "=================================================================\n",
            " input_1 (InputLayer)        [(None, 784)]             0         \n",
            "                                                                 \n",
            " dense (Dense)               (None, 128)               100480    \n",
            "                                                                 \n",
            " p_re_lu (PReLU)             (None, 128)               128       \n",
            "                                                                 \n",
            " dense_1 (Dense)             (None, 64)                8256      \n",
            "                                                                 \n",
            " p_re_lu_1 (PReLU)           (None, 64)                64        \n",
            "                                                                 \n",
            " dense_2 (Dense)             (None, 32)                2080      \n",
            "                                                                 \n",
            " p_re_lu_2 (PReLU)           (None, 32)                32        \n",
            "                                                                 \n",
            " dense_3 (Dense)             (None, 64)                2112      \n",
            "                                                                 \n",
            " dense_4 (Dense)             (None, 128)               8320      \n",
            "                                                                 \n",
            " dense_5 (Dense)             (None, 784)               101136    \n",
            "                                                                 \n",
            "=================================================================\n",
            "Total params: 222,608\n",
            "Trainable params: 222,608\n",
            "Non-trainable params: 0\n",
            "_________________________________________________________________\n",
            "Epoch 1/5\n",
            "235/235 [==============================] - 9s 31ms/step - loss: 0.2305\n",
            "Epoch 2/5\n",
            "235/235 [==============================] - 8s 32ms/step - loss: 0.1438\n",
            "Epoch 3/5\n",
            "235/235 [==============================] - 8s 32ms/step - loss: 0.1261\n",
            "Epoch 4/5\n",
            "235/235 [==============================] - 5s 21ms/step - loss: 0.1180\n",
            "Epoch 5/5\n",
            "235/235 [==============================] - 4s 18ms/step - loss: 0.1130\n",
            "[<keras.layers.advanced_activations.PReLU object at 0x7f656fc27790>, <keras.layers.advanced_activations.PReLU object at 0x7f656bee9c10>, <keras.layers.advanced_activations.PReLU object at 0x7f656bef5950>]\n"
          ]
        }
      ]
    },
    {
      "cell_type": "code",
      "source": [
        "for p in prelu:\n",
        "    print(p.trainable_weights)"
      ],
      "metadata": {
        "colab": {
          "base_uri": "https://localhost:8080/"
        },
        "id": "aUSQ5d7mwlOW",
        "outputId": "8170a636-697d-4426-c57a-0634a9454254"
      },
      "execution_count": 5,
      "outputs": [
        {
          "output_type": "stream",
          "name": "stdout",
          "text": [
            "[<tf.Variable 'p_re_lu/alpha:0' shape=(128,) dtype=float32, numpy=\n",
            "array([ 9.71000548e-03,  7.32508302e-02,  2.85959523e-02, -3.82519588e-02,\n",
            "        2.90668815e-01,  1.69363156e-01,  2.45097190e-01,  6.92224801e-02,\n",
            "       -5.32902889e-02,  9.22408514e-03,  1.10214159e-01,  4.06620741e-01,\n",
            "        1.24493331e-01,  3.46499383e-02,  3.02098729e-02,  4.21229675e-02,\n",
            "        2.98868477e-01,  2.22231708e-02,  1.12229533e-01,  2.89825916e-01,\n",
            "        3.25130165e-01, -5.59885390e-02,  1.35369763e-01,  1.30249247e-01,\n",
            "       -1.26103759e-02,  3.42662275e-01, -2.90157795e-02, -9.65612009e-02,\n",
            "        1.44173875e-01,  4.54036929e-02,  1.65743247e-01,  6.32910952e-02,\n",
            "        2.11370625e-02,  2.11678296e-01,  1.25232348e-02,  1.32398292e-01,\n",
            "        6.15807056e-01,  1.80929542e-01,  2.34870955e-01, -4.58888300e-02,\n",
            "        1.54503629e-01, -8.20528995e-03,  1.62208937e-02, -6.45974725e-02,\n",
            "        6.33314773e-02,  2.06263199e-01, -2.18371954e-02,  2.42061242e-01,\n",
            "        2.03945354e-01, -1.22664450e-02,  2.66596287e-01,  9.93652418e-02,\n",
            "        9.88856107e-02,  1.53210089e-01, -5.71680777e-02,  4.94368747e-02,\n",
            "        2.05393299e-01,  1.78902131e-02,  3.17077190e-01,  2.55800843e-01,\n",
            "       -1.52864475e-02,  2.20335335e-01,  3.14946733e-02,  1.34599274e-02,\n",
            "       -7.78835267e-02,  1.54341787e-01,  3.80928516e-01,  2.45806485e-01,\n",
            "        2.84465075e-01,  1.50934188e-02, -1.43878348e-02,  2.34600514e-01,\n",
            "        7.51729235e-02,  2.13643372e-01,  7.11393505e-02, -1.23815127e-01,\n",
            "       -4.32926882e-03,  2.75603607e-02,  1.49285048e-01,  2.14994848e-01,\n",
            "        1.39039949e-01,  7.01290295e-02, -5.74928932e-02,  4.46177535e-02,\n",
            "        2.41342321e-01,  4.62799929e-02,  4.89503406e-02,  1.66762754e-01,\n",
            "        2.41732284e-01, -4.54005972e-03,  1.01997271e-01,  4.13742103e-02,\n",
            "       -6.80320710e-02,  8.82252492e-03,  5.08445017e-02,  1.87278334e-02,\n",
            "       -7.42452666e-02,  9.60477963e-02,  5.16416971e-03, -9.16333124e-03,\n",
            "        1.33603856e-01,  2.10742950e-01,  4.38435040e-02,  8.21922161e-03,\n",
            "       -9.87442472e-05,  1.93024144e-01, -8.07401836e-02,  1.87361822e-01,\n",
            "        2.00332746e-01, -2.24031415e-02,  1.56527355e-01, -4.23848443e-02,\n",
            "        1.59523249e-01,  6.84592575e-02,  4.38913293e-02,  3.76401981e-03,\n",
            "       -5.46306819e-02,  8.33855271e-02,  5.81071414e-02,  5.61144501e-02,\n",
            "        4.39076692e-01, -6.57723993e-02,  3.26611429e-01,  1.84144899e-01,\n",
            "       -1.78160235e-01,  1.77290216e-02,  3.52010422e-04,  1.81584075e-01],\n",
            "      dtype=float32)>]\n",
            "[<tf.Variable 'p_re_lu_1/alpha:0' shape=(64,) dtype=float32, numpy=\n",
            "array([-0.08459727,  0.02970668,  0.18978347,  0.24316248,  0.02958869,\n",
            "        0.27815098, -0.16556853,  0.10771832,  0.08422387,  0.06842755,\n",
            "        0.00283065,  0.07932265, -0.03027955,  0.45853427,  0.04370722,\n",
            "        0.03896458,  0.06004128,  0.19605875,  0.17862965,  0.13282186,\n",
            "        0.08710887,  0.12032916,  0.07790282,  0.31616917,  0.16128041,\n",
            "        0.09134354,  0.16374831, -0.05199543,  0.03486546,  0.02624284,\n",
            "        0.07970461,  0.14253949,  0.07366389,  0.07723868,  0.05209094,\n",
            "        0.24717496,  0.05653078,  0.2651357 ,  0.03388922,  0.03959306,\n",
            "       -0.01941862,  0.09318934,  0.03697772,  0.05655083,  0.22435327,\n",
            "        0.09984128,  0.10614087,  0.10313675,  0.72122836,  0.08839626,\n",
            "        0.03612828,  0.11355543,  0.07348163,  0.0060852 ,  0.5491415 ,\n",
            "        0.26610938, -0.00114821,  0.17477882,  0.24340339,  0.16727704,\n",
            "        0.19019268,  0.6014464 ,  0.11236307,  0.02997275], dtype=float32)>]\n",
            "[<tf.Variable 'p_re_lu_2/alpha:0' shape=(32,) dtype=float32, numpy=\n",
            "array([ 0.0839026 ,  0.10446625,  0.4065582 ,  0.3796923 ,  0.32916716,\n",
            "       -0.04306151,  0.5577704 ,  0.06742236, -0.03867987,  0.39177316,\n",
            "        0.66426235, -0.00613852,  0.32710952,  0.3913605 , -0.02634487,\n",
            "        0.2022771 ,  0.31886134,  0.01764531,  0.        ,  0.25294468,\n",
            "        0.17672023,  0.30525354,  0.33727393, -0.04026616,  0.00372353,\n",
            "        0.30101228,  0.3656675 ,  0.62044257,  0.27083576,  0.1976221 ,\n",
            "        0.02071282,  0.11437317], dtype=float32)>]\n"
          ]
        }
      ]
    },
    {
      "cell_type": "code",
      "source": [
        "class TiedDense(layers.Layer):\n",
        "    def __init__(self, master_layer):\n",
        "        super(TiedDense, self).__init__()\n",
        "        self.master_layer = master_layer\n",
        "\n",
        "    def build(self, input_shape):\n",
        "        # do not train weights or bias from master_layer, they are read-only\n",
        "        self.params = []\n",
        "        \n",
        "    def call(self, inputs):  # Defines the computation from inputs to outputs\n",
        "        W = self.master_layer._trainable_weights[0]\n",
        "        b = self.master_layer._trainable_weights[1]\n",
        "        w = tf.transpose(W)\n",
        "        return tf.matmul(inputs - b, w)\n",
        "    "
      ],
      "metadata": {
        "id": "C9LallIk5HHD"
      },
      "execution_count": 6,
      "outputs": []
    },
    {
      "cell_type": "code",
      "source": [
        "\n",
        "class TiedPReLU(layers.Layer):\n",
        "    def __init__(self, master_layer):\n",
        "        super(TiedPReLU, self).__init__()\n",
        "        self.master_layer = master_layer\n",
        "\n",
        "    def build(self, input_shape):\n",
        "        # do not train weights or bias from master_layer, they are read-only\n",
        "        self.params = []\n",
        "\n",
        "    def call(self, inputs):\n",
        "        alpha = 1/(self.master_layer.alpha + 0.00001)\n",
        "        pos = keras.backend.relu(inputs)\n",
        "        neg = -alpha * keras.backend.relu(-inputs)\n",
        "        return pos + neg\n"
      ],
      "metadata": {
        "id": "IZ8KUvUqy2rj"
      },
      "execution_count": 7,
      "outputs": []
    },
    {
      "cell_type": "code",
      "source": [
        "kernel_init='he_normal'\n",
        "paper_init=keras.initializers.Constant(0.25)\n",
        "def create_palindromic_model():\n",
        "    input_img = keras.Input(shape=(784,))\n",
        "    a = layers.Dense(128, kernel_initializer=kernel_init)\n",
        "    encoded = a(input_img)\n",
        "    a_p = layers.PReLU(alpha_initializer=paper_init)\n",
        "    encoded = a_p(encoded)\n",
        "    # encoded = layers.Dropout(0.2)(encoded)\n",
        "    b = layers.Dense(64, kernel_initializer=kernel_init)\n",
        "    encoded = b(encoded)\n",
        "    b_p = layers.PReLU(alpha_initializer=paper_init)\n",
        "    encoded = b_p(encoded)\n",
        "    c = layers.Dense(32, kernel_initializer=kernel_init)\n",
        "    encoded = c(encoded)\n",
        "    c_p = layers.PReLU(alpha_initializer=paper_init)\n",
        "    encoded = c_p(encoded)\n",
        "\n",
        "    embedding = encoded\n",
        "\n",
        "    decoded = TiedPReLU(c_p)(embedding)\n",
        "    decoded = TiedDense(c)(decoded)\n",
        "    decoded = TiedPReLU(b_p)(decoded)\n",
        "    decoded = TiedDense(b)(decoded)\n",
        "    decoded = TiedPReLU(a_p)(decoded)\n",
        "    decoded = TiedDense(a)(decoded)\n",
        "    decoded = layers.Activation(activation='sigmoid')(decoded)\n",
        "\n",
        "    autoencoder = keras.Model(input_img, decoded)\n",
        "    autoencoder.compile(optimizer='adam', loss='binary_crossentropy')\n",
        "    autoencoder.summary()\n",
        "    return autoencoder\n"
      ],
      "metadata": {
        "id": "ZVpLJHQEpDwO"
      },
      "execution_count": 18,
      "outputs": []
    },
    {
      "cell_type": "code",
      "source": [
        "num_epochs = 100\n",
        "autoencoder = create_palindromic_model()\n",
        "\n",
        "autoencoder.fit(x_train, x_train,\n",
        "                epochs=num_epochs,\n",
        "                batch_size=256,\n",
        "                shuffle=True,\n",
        "                validation_data=(x_test, x_test))\n"
      ],
      "metadata": {
        "colab": {
          "base_uri": "https://localhost:8080/"
        },
        "id": "y8AHMi-ttlDJ",
        "outputId": "6c43fde0-2b4d-42ac-bd1e-b1c719a53af8"
      },
      "execution_count": 19,
      "outputs": [
        {
          "output_type": "stream",
          "name": "stdout",
          "text": [
            "Model: \"model_4\"\n",
            "_________________________________________________________________\n",
            " Layer (type)                Output Shape              Param #   \n",
            "=================================================================\n",
            " input_5 (InputLayer)        [(None, 784)]             0         \n",
            "                                                                 \n",
            " dense_15 (Dense)            (None, 128)               100480    \n",
            "                                                                 \n",
            " p_re_lu_14 (PReLU)          (None, 128)               128       \n",
            "                                                                 \n",
            " dense_16 (Dense)            (None, 64)                8256      \n",
            "                                                                 \n",
            " p_re_lu_15 (PReLU)          (None, 64)                64        \n",
            "                                                                 \n",
            " dense_17 (Dense)            (None, 32)                2080      \n",
            "                                                                 \n",
            " p_re_lu_16 (PReLU)          (None, 32)                32        \n",
            "                                                                 \n",
            " tied_p_re_lu_9 (TiedPReLU)  (None, 32)                32        \n",
            "                                                                 \n",
            " tied_dense_9 (TiedDense)    (None, 64)                2080      \n",
            "                                                                 \n",
            " tied_p_re_lu_10 (TiedPReLU)  (None, 64)               64        \n",
            "                                                                 \n",
            " tied_dense_10 (TiedDense)   (None, 128)               8256      \n",
            "                                                                 \n",
            " tied_p_re_lu_11 (TiedPReLU)  (None, 128)              128       \n",
            "                                                                 \n",
            " tied_dense_11 (TiedDense)   (None, 784)               100480    \n",
            "                                                                 \n",
            " activation_3 (Activation)   (None, 784)               0         \n",
            "                                                                 \n",
            "=================================================================\n",
            "Total params: 111,040\n",
            "Trainable params: 111,040\n",
            "Non-trainable params: 0\n",
            "_________________________________________________________________\n",
            "Epoch 1/100\n",
            "235/235 [==============================] - 6s 21ms/step - loss: 0.2598 - val_loss: 0.1612\n",
            "Epoch 2/100\n",
            "235/235 [==============================] - 5s 20ms/step - loss: 0.1389 - val_loss: 0.1216\n",
            "Epoch 3/100\n",
            "235/235 [==============================] - 5s 20ms/step - loss: 0.1166 - val_loss: 0.1096\n",
            "Epoch 4/100\n",
            "235/235 [==============================] - 5s 20ms/step - loss: 0.1075 - val_loss: 0.1034\n",
            "Epoch 5/100\n",
            "235/235 [==============================] - 5s 20ms/step - loss: 0.1028 - val_loss: 0.0997\n",
            "Epoch 6/100\n",
            "235/235 [==============================] - 5s 20ms/step - loss: 0.1000 - val_loss: 0.0977\n",
            "Epoch 7/100\n",
            "235/235 [==============================] - 5s 20ms/step - loss: 0.0980 - val_loss: 0.0962\n",
            "Epoch 8/100\n",
            "235/235 [==============================] - 5s 20ms/step - loss: 0.0964 - val_loss: 0.0942\n",
            "Epoch 9/100\n",
            "235/235 [==============================] - 6s 25ms/step - loss: 0.0951 - val_loss: 0.0932\n",
            "Epoch 10/100\n",
            "235/235 [==============================] - 5s 21ms/step - loss: 0.0942 - val_loss: 0.0925\n",
            "Epoch 11/100\n",
            "235/235 [==============================] - 5s 21ms/step - loss: 0.0933 - val_loss: 0.0917\n",
            "Epoch 12/100\n",
            "235/235 [==============================] - 5s 21ms/step - loss: 0.0927 - val_loss: 0.0912\n",
            "Epoch 13/100\n",
            "235/235 [==============================] - 5s 21ms/step - loss: 0.0922 - val_loss: 0.0909\n",
            "Epoch 14/100\n",
            "235/235 [==============================] - 5s 21ms/step - loss: 0.0918 - val_loss: 0.0903\n",
            "Epoch 15/100\n",
            "235/235 [==============================] - 5s 20ms/step - loss: 0.0914 - val_loss: 0.0901\n",
            "Epoch 16/100\n",
            "235/235 [==============================] - 5s 21ms/step - loss: 0.0910 - val_loss: 0.0898\n",
            "Epoch 17/100\n",
            "235/235 [==============================] - 5s 20ms/step - loss: 0.0907 - val_loss: 0.0893\n",
            "Epoch 18/100\n",
            "235/235 [==============================] - 5s 21ms/step - loss: 0.0903 - val_loss: 0.0893\n",
            "Epoch 19/100\n",
            "235/235 [==============================] - 5s 21ms/step - loss: 0.0900 - val_loss: 0.0887\n",
            "Epoch 20/100\n",
            "235/235 [==============================] - 5s 23ms/step - loss: 0.0896 - val_loss: 0.0883\n",
            "Epoch 21/100\n",
            "235/235 [==============================] - 5s 21ms/step - loss: 0.0894 - val_loss: 0.0887\n",
            "Epoch 22/100\n",
            "235/235 [==============================] - 5s 21ms/step - loss: 0.0890 - val_loss: 0.0877\n",
            "Epoch 23/100\n",
            "235/235 [==============================] - 5s 21ms/step - loss: 0.0894 - val_loss: 0.0876\n",
            "Epoch 24/100\n",
            "235/235 [==============================] - 5s 21ms/step - loss: 0.0884 - val_loss: 0.0871\n",
            "Epoch 25/100\n",
            "235/235 [==============================] - 5s 21ms/step - loss: 0.0881 - val_loss: 0.0871\n",
            "Epoch 26/100\n",
            "235/235 [==============================] - 5s 21ms/step - loss: 0.0879 - val_loss: 0.0866\n",
            "Epoch 27/100\n",
            "235/235 [==============================] - 5s 21ms/step - loss: 0.0875 - val_loss: 0.0864\n",
            "Epoch 28/100\n",
            "235/235 [==============================] - 5s 21ms/step - loss: 0.0876 - val_loss: 0.0909\n",
            "Epoch 29/100\n",
            "235/235 [==============================] - 5s 21ms/step - loss: 0.0873 - val_loss: 0.0861\n",
            "Epoch 30/100\n",
            "235/235 [==============================] - 6s 26ms/step - loss: 0.0869 - val_loss: 0.0857\n",
            "Epoch 31/100\n",
            "235/235 [==============================] - 5s 21ms/step - loss: 0.0867 - val_loss: 0.0857\n",
            "Epoch 32/100\n",
            "235/235 [==============================] - 5s 21ms/step - loss: 0.0865 - val_loss: 0.0858\n",
            "Epoch 33/100\n",
            "235/235 [==============================] - 5s 21ms/step - loss: 0.0862 - val_loss: 0.0854\n",
            "Epoch 34/100\n",
            "235/235 [==============================] - 5s 22ms/step - loss: 0.0860 - val_loss: 0.0851\n",
            "Epoch 35/100\n",
            "235/235 [==============================] - 5s 21ms/step - loss: 0.0859 - val_loss: 0.0849\n",
            "Epoch 36/100\n",
            "235/235 [==============================] - 5s 21ms/step - loss: 0.0953 - val_loss: 0.0872\n",
            "Epoch 37/100\n",
            "235/235 [==============================] - 5s 21ms/step - loss: 0.0875 - val_loss: 0.0860\n",
            "Epoch 38/100\n",
            "235/235 [==============================] - 5s 21ms/step - loss: 0.0867 - val_loss: 0.0856\n",
            "Epoch 39/100\n",
            "235/235 [==============================] - 5s 21ms/step - loss: 0.0863 - val_loss: 0.0852\n",
            "Epoch 40/100\n",
            "235/235 [==============================] - 5s 21ms/step - loss: 0.0860 - val_loss: 0.0852\n",
            "Epoch 41/100\n",
            "235/235 [==============================] - 5s 21ms/step - loss: 0.0858 - val_loss: 0.0847\n",
            "Epoch 42/100\n",
            "235/235 [==============================] - 5s 21ms/step - loss: 0.0858 - val_loss: 0.0847\n",
            "Epoch 43/100\n",
            "235/235 [==============================] - 5s 21ms/step - loss: 0.0855 - val_loss: 0.0846\n",
            "Epoch 44/100\n",
            "235/235 [==============================] - 5s 21ms/step - loss: 0.0853 - val_loss: 0.0843\n",
            "Epoch 45/100\n",
            "235/235 [==============================] - 6s 26ms/step - loss: 0.0852 - val_loss: 0.0844\n",
            "Epoch 46/100\n",
            "235/235 [==============================] - 5s 21ms/step - loss: 0.0851 - val_loss: 0.0850\n",
            "Epoch 47/100\n",
            "235/235 [==============================] - 5s 21ms/step - loss: 0.0850 - val_loss: 0.0858\n",
            "Epoch 48/100\n",
            "235/235 [==============================] - 5s 21ms/step - loss: 0.0849 - val_loss: 0.0844\n",
            "Epoch 49/100\n",
            "235/235 [==============================] - 5s 21ms/step - loss: 0.0847 - val_loss: 0.0838\n",
            "Epoch 50/100\n",
            "235/235 [==============================] - 5s 21ms/step - loss: 0.0845 - val_loss: 0.0840\n",
            "Epoch 51/100\n",
            "235/235 [==============================] - 5s 21ms/step - loss: 0.0845 - val_loss: 0.0848\n",
            "Epoch 52/100\n",
            "235/235 [==============================] - 5s 21ms/step - loss: 0.0929 - val_loss: 0.0866\n",
            "Epoch 53/100\n",
            "235/235 [==============================] - 5s 21ms/step - loss: 0.0865 - val_loss: 0.0849\n",
            "Epoch 54/100\n",
            "235/235 [==============================] - 5s 21ms/step - loss: 0.0853 - val_loss: 0.0841\n",
            "Epoch 55/100\n",
            "235/235 [==============================] - 5s 20ms/step - loss: 0.0847 - val_loss: 0.0836\n",
            "Epoch 56/100\n",
            "235/235 [==============================] - 5s 20ms/step - loss: 0.0844 - val_loss: 0.0836\n",
            "Epoch 57/100\n",
            "235/235 [==============================] - 5s 21ms/step - loss: 0.0842 - val_loss: 0.0835\n",
            "Epoch 58/100\n",
            "235/235 [==============================] - 5s 21ms/step - loss: 0.0840 - val_loss: 0.0831\n",
            "Epoch 59/100\n",
            "235/235 [==============================] - 5s 21ms/step - loss: 0.0843 - val_loss: 0.0862\n",
            "Epoch 60/100\n",
            "235/235 [==============================] - 5s 21ms/step - loss: 0.0842 - val_loss: 0.0831\n",
            "Epoch 61/100\n",
            "235/235 [==============================] - 5s 21ms/step - loss: 0.0838 - val_loss: 0.0837\n",
            "Epoch 62/100\n",
            "235/235 [==============================] - 5s 21ms/step - loss: 0.0837 - val_loss: 0.0831\n",
            "Epoch 63/100\n",
            "235/235 [==============================] - 5s 21ms/step - loss: 0.0836 - val_loss: 0.0829\n",
            "Epoch 64/100\n",
            "235/235 [==============================] - 5s 21ms/step - loss: 0.0835 - val_loss: 0.0828\n",
            "Epoch 65/100\n",
            "235/235 [==============================] - 5s 21ms/step - loss: 0.0836 - val_loss: 0.0829\n",
            "Epoch 66/100\n",
            "235/235 [==============================] - 5s 21ms/step - loss: 0.0834 - val_loss: 0.0826\n",
            "Epoch 67/100\n",
            "235/235 [==============================] - 5s 21ms/step - loss: 0.0833 - val_loss: 0.0826\n",
            "Epoch 68/100\n",
            "235/235 [==============================] - 5s 21ms/step - loss: 0.0833 - val_loss: 0.0825\n",
            "Epoch 69/100\n",
            "235/235 [==============================] - 5s 22ms/step - loss: 0.0832 - val_loss: 0.0826\n",
            "Epoch 70/100\n",
            "235/235 [==============================] - 5s 21ms/step - loss: 0.0831 - val_loss: 0.0823\n",
            "Epoch 71/100\n",
            "235/235 [==============================] - 5s 21ms/step - loss: 0.0830 - val_loss: 0.0822\n",
            "Epoch 72/100\n",
            "235/235 [==============================] - 5s 20ms/step - loss: 0.0830 - val_loss: 0.0828\n",
            "Epoch 73/100\n",
            "235/235 [==============================] - 5s 20ms/step - loss: 0.0841 - val_loss: 0.0829\n",
            "Epoch 74/100\n",
            "235/235 [==============================] - 5s 20ms/step - loss: 0.0830 - val_loss: 0.0819\n",
            "Epoch 75/100\n",
            "235/235 [==============================] - 5s 21ms/step - loss: 0.0827 - val_loss: 0.0820\n",
            "Epoch 76/100\n",
            "235/235 [==============================] - 5s 21ms/step - loss: 0.0827 - val_loss: 0.0821\n",
            "Epoch 77/100\n",
            "235/235 [==============================] - 5s 21ms/step - loss: 0.0826 - val_loss: 0.0821\n",
            "Epoch 78/100\n",
            "235/235 [==============================] - 5s 21ms/step - loss: 0.0828 - val_loss: 0.0823\n",
            "Epoch 79/100\n",
            "235/235 [==============================] - 5s 21ms/step - loss: 0.0826 - val_loss: 0.0818\n",
            "Epoch 80/100\n",
            "235/235 [==============================] - 5s 21ms/step - loss: 0.0824 - val_loss: 0.0822\n",
            "Epoch 81/100\n",
            "235/235 [==============================] - 5s 21ms/step - loss: 0.0824 - val_loss: 0.0823\n",
            "Epoch 82/100\n",
            "235/235 [==============================] - 5s 21ms/step - loss: 0.0824 - val_loss: 0.0818\n",
            "Epoch 83/100\n",
            "235/235 [==============================] - 5s 22ms/step - loss: 0.0823 - val_loss: 0.0816\n",
            "Epoch 84/100\n",
            "235/235 [==============================] - 5s 23ms/step - loss: 0.0822 - val_loss: 0.0816\n",
            "Epoch 85/100\n",
            "235/235 [==============================] - 5s 21ms/step - loss: 0.0821 - val_loss: 0.0817\n",
            "Epoch 86/100\n",
            "235/235 [==============================] - 5s 20ms/step - loss: 0.0826 - val_loss: 0.0815\n",
            "Epoch 87/100\n",
            "235/235 [==============================] - 5s 20ms/step - loss: 0.0823 - val_loss: 0.0815\n",
            "Epoch 88/100\n",
            "235/235 [==============================] - 5s 20ms/step - loss: 0.0820 - val_loss: 0.0817\n",
            "Epoch 89/100\n",
            "235/235 [==============================] - 5s 21ms/step - loss: 0.0819 - val_loss: 0.0814\n",
            "Epoch 90/100\n",
            "235/235 [==============================] - 5s 21ms/step - loss: 0.0818 - val_loss: 0.0814\n",
            "Epoch 91/100\n",
            "235/235 [==============================] - 5s 21ms/step - loss: 0.0818 - val_loss: 0.0813\n",
            "Epoch 92/100\n",
            "235/235 [==============================] - 5s 20ms/step - loss: 0.0820 - val_loss: 0.0814\n",
            "Epoch 93/100\n",
            "235/235 [==============================] - 5s 21ms/step - loss: 0.0818 - val_loss: 0.0819\n",
            "Epoch 94/100\n",
            "235/235 [==============================] - 5s 21ms/step - loss: 0.0817 - val_loss: 0.0811\n",
            "Epoch 95/100\n",
            "235/235 [==============================] - 5s 21ms/step - loss: 0.0817 - val_loss: 0.0812\n",
            "Epoch 96/100\n",
            "235/235 [==============================] - 5s 21ms/step - loss: 0.0817 - val_loss: 0.0813\n",
            "Epoch 97/100\n",
            "235/235 [==============================] - 5s 20ms/step - loss: 0.0815 - val_loss: 0.0808\n",
            "Epoch 98/100\n",
            "235/235 [==============================] - 5s 20ms/step - loss: 0.0815 - val_loss: 0.0818\n",
            "Epoch 99/100\n",
            "235/235 [==============================] - 5s 20ms/step - loss: 0.0816 - val_loss: 0.0813\n",
            "Epoch 100/100\n",
            "235/235 [==============================] - 5s 21ms/step - loss: 0.0814 - val_loss: 0.0809\n"
          ]
        },
        {
          "output_type": "execute_result",
          "data": {
            "text/plain": [
              "<keras.callbacks.History at 0x7f655e9b4490>"
            ]
          },
          "metadata": {},
          "execution_count": 19
        }
      ]
    },
    {
      "cell_type": "code",
      "source": [
        "\n",
        "predicted_imgs = autoencoder.predict(x_test)\n",
        "# decoded_imgs = autoencoder.predict(encoded_imgs)"
      ],
      "metadata": {
        "id": "tnogr4ppuxl2"
      },
      "execution_count": 20,
      "outputs": []
    },
    {
      "cell_type": "code",
      "source": [
        "# Use Matplotlib (don't ask)\n",
        "import matplotlib.pyplot as plt\n",
        "\n",
        "n = 10  # How many digits we will display\n",
        "plt.figure(figsize=(20, 4))\n",
        "for i in range(n):\n",
        "    # Display original\n",
        "    ax = plt.subplot(2, n, i + 1)\n",
        "    plt.imshow(x_test[i].reshape(28, 28))\n",
        "    plt.gray()\n",
        "    ax.get_xaxis().set_visible(False)\n",
        "    ax.get_yaxis().set_visible(False)\n",
        "\n",
        "    # Display reconstruction\n",
        "    ax = plt.subplot(2, n, i + 1 + n)\n",
        "    plt.imshow(predicted_imgs[i].reshape(28, 28))\n",
        "    plt.gray()\n",
        "    ax.get_xaxis().set_visible(False)\n",
        "    ax.get_yaxis().set_visible(False)\n",
        "plt.show()\n"
      ],
      "metadata": {
        "id": "UXO0OBW3CNYF",
        "colab": {
          "base_uri": "https://localhost:8080/",
          "height": 248
        },
        "outputId": "5cca6ebc-f453-4699-b742-2dc9228f33b6"
      },
      "execution_count": 21,
      "outputs": [
        {
          "output_type": "display_data",
          "data": {
            "text/plain": [
              "<Figure size 1440x288 with 20 Axes>"
            ],
            "image/png": "[encoded data removed]"
          },
          "metadata": {
            "needs_background": "light"
          }
        }
      ]
    },
    {
      "cell_type": "code",
      "source": [
        ""
      ],
      "metadata": {
        "id": "OczYkz9SoVJ2"
      },
      "execution_count": 21,
      "outputs": []
    }
  ]
}