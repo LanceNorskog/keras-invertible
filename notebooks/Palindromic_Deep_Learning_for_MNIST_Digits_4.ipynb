{
  "nbformat": 4,
  "nbformat_minor": 0,
  "metadata": {
    "colab": {
      "name": "Palindromic Deep Learning for MNIST Digits 4.ipynb",
      "provenance": [],
      "collapsed_sections": []
    },
    "kernelspec": {
      "name": "python3",
      "display_name": "Python 3"
    },
    "language_info": {
      "name": "python"
    }
  },
  "cells": [
    {
      "cell_type": "markdown",
      "source": [
        "Start with a simple multi-stage autoencoder.\n",
        "\n",
        "Use pRELU since it should be invertible\n",
        "\n",
        "https://blog.keras.io/building-autoencoders-in-keras.html\n",
        "\n",
        "Use LeakyReLU with custom inversion layer. \n",
        "\n",
        "Initialize Dense inversions with Penrose pseudo-inverse of matching base layer, but do not force them to stay inverses."
      ],
      "metadata": {
        "id": "cKDtwP6aK3AX"
      }
    },
    {
      "cell_type": "code",
      "execution_count": null,
      "metadata": {
        "id": "O6-EZfoSkDis"
      },
      "outputs": [],
      "source": [
        "import numpy as np\n",
        "import tensorflow as tf\n",
        "from tensorflow.python.ops import nn\n",
        "import keras\n",
        "from keras import layers\n",
        "from keras.datasets import mnist\n"
      ]
    },
    {
      "cell_type": "code",
      "source": [
        "\n",
        "(x_train, _), (x_test, _) = mnist.load_data()\n",
        "x_train = x_train.astype('float32') / 255.\n",
        "x_test = x_test.astype('float32') / 255.\n",
        "x_train = x_train.reshape((len(x_train), np.prod(x_train.shape[1:])))\n",
        "x_test = x_test.reshape((len(x_test), np.prod(x_test.shape[1:])))\n",
        "print(x_train.shape)\n",
        "print(x_test.shape)\n"
      ],
      "metadata": {
        "colab": {
          "base_uri": "https://localhost:8080/"
        },
        "id": "WCuLZ05oklTv",
        "outputId": "430fa316-6c7f-423c-cf93-e3865e1c7cb9"
      },
      "execution_count": null,
      "outputs": [
        {
          "output_type": "stream",
          "name": "stdout",
          "text": [
            "(60000, 784)\n",
            "(10000, 784)\n"
          ]
        }
      ]
    },
    {
      "cell_type": "code",
      "source": [
        "# def create_model():\n",
        "#     input_img = keras.Input(shape=(784,))\n",
        "#     encoded = layers.Dense(128)(input_img)\n",
        "#     encoded = layers.PReLU()(encoded)\n",
        "#     encoded = layers.Dense(64)(encoded)\n",
        "#     encoded = layers.PReLU()(encoded)\n",
        "#     encoded = layers.Dense(32)(encoded)\n",
        "#     encoded = layers.PReLU()(encoded)\n",
        "\n",
        "#     decoded = layers.Dense(64)(encoded)\n",
        "#     encoded = layers.PReLU()(encoded)\n",
        "#     decoded = layers.Dense(128)(decoded)\n",
        "#     encoded = layers.PReLU()(encoded)\n",
        "#     decoded = layers.Dense(784, activation='sigmoid')(decoded)\n",
        "\n",
        "#     autoencoder = keras.Model(input_img, decoded)\n",
        "#     autoencoder.compile(optimizer='adam', loss='binary_crossentropy')\n",
        "#     autoencoder.summary()\n",
        "#     return autoencoder\n"
      ],
      "metadata": {
        "id": "_7EusGw9l35D"
      },
      "execution_count": null,
      "outputs": []
    },
    {
      "cell_type": "code",
      "source": [
        "# model = create_model()\n",
        "# model.fit(x_train, x_train,\n",
        "#                 epochs=5,\n",
        "#                 batch_size=256,\n",
        "#                 shuffle=True)\n",
        "# prelu = []\n",
        "# for layer in model.layers:\n",
        "#     if 'p_re_lu' in layer.name:\n",
        "#         prelu.append(layer)\n",
        "# print(prelu)"
      ],
      "metadata": {
        "id": "T8pVaeGCp1cj"
      },
      "execution_count": null,
      "outputs": []
    },
    {
      "cell_type": "code",
      "source": [
        "# for p in prelu:\n",
        "#     print(p.trainable_weights)"
      ],
      "metadata": {
        "id": "aUSQ5d7mwlOW"
      },
      "execution_count": null,
      "outputs": []
    },
    {
      "cell_type": "code",
      "source": [
        "!pip install -v -U git+https://github.com/LanceNorskog/keras-invertible.git\n",
        "from keras_invertible import InvertedActivation, InvertedDensePI, InvertedLeakyReLU, InvertedBias"
      ],
      "metadata": {
        "id": "IZ8KUvUqy2rj",
        "colab": {
          "base_uri": "https://localhost:8080/"
        },
        "outputId": "53f5a0c9-f75b-4a06-ee56-0ae79023ce83"
      },
      "execution_count": null,
      "outputs": [
        {
          "output_type": "stream",
          "name": "stdout",
          "text": [
            "Using pip 21.1.3 from /usr/local/lib/python3.7/dist-packages/pip (python 3.7)\n",
            "Value for scheme.platlib does not match. Please report this to <https://github.com/pypa/pip/issues/9617>\n",
            "distutils: /usr/local/lib/python3.7/dist-packages\n",
            "sysconfig: /usr/lib/python3.7/site-packages\n",
            "Value for scheme.purelib does not match. Please report this to <https://github.com/pypa/pip/issues/9617>\n",
            "distutils: /usr/local/lib/python3.7/dist-packages\n",
            "sysconfig: /usr/lib/python3.7/site-packages\n",
            "Value for scheme.headers does not match. Please report this to <https://github.com/pypa/pip/issues/9617>\n",
            "distutils: /usr/local/include/python3.7/UNKNOWN\n",
            "sysconfig: /usr/include/python3.7m/UNKNOWN\n",
            "Value for scheme.scripts does not match. Please report this to <https://github.com/pypa/pip/issues/9617>\n",
            "distutils: /usr/local/bin\n",
            "sysconfig: /usr/bin\n",
            "Value for scheme.data does not match. Please report this to <https://github.com/pypa/pip/issues/9617>\n",
            "distutils: /usr/local\n",
            "sysconfig: /usr\n",
            "Additional context:\n",
            "user = False\n",
            "home = None\n",
            "root = None\n",
            "prefix = None\n",
            "Non-user install because site-packages writeable\n",
            "Created temporary directory: /tmp/pip-ephem-wheel-cache-bgamxcu9\n",
            "Created temporary directory: /tmp/pip-req-tracker-rd8rdrus\n",
            "Initialized build tracking at /tmp/pip-req-tracker-rd8rdrus\n",
            "Created build tracker: /tmp/pip-req-tracker-rd8rdrus\n",
            "Entered build tracker: /tmp/pip-req-tracker-rd8rdrus\n",
            "Created temporary directory: /tmp/pip-install-rfiuogrj\n",
            "Looking in indexes: https://pypi.org/simple, https://us-python.pkg.dev/colab-wheels/public/simple/\n",
            "Collecting git+https://github.com/LanceNorskog/keras-invertible.git\n",
            "  Created temporary directory: /tmp/pip-req-build-n7nziz_3\n",
            "  Cloning https://github.com/LanceNorskog/keras-invertible.git to /tmp/pip-req-build-n7nziz_3\n",
            "  Running command git clone -q https://github.com/LanceNorskog/keras-invertible.git /tmp/pip-req-build-n7nziz_3\n",
            "  Added git+https://github.com/LanceNorskog/keras-invertible.git to build tracker '/tmp/pip-req-tracker-rd8rdrus'\n",
            "    Running setup.py (path:/tmp/pip-req-build-n7nziz_3/setup.py) egg_info for package from git+https://github.com/LanceNorskog/keras-invertible.git\n",
            "    Created temporary directory: /tmp/pip-pip-egg-info-tjp1gmc3\n",
            "    Running command python setup.py egg_info\n",
            "    Warning: 'classifiers' should be a list, got type 'tuple'\n",
            "    running egg_info\n",
            "    creating /tmp/pip-pip-egg-info-tjp1gmc3/keras_invertible.egg-info\n",
            "    writing /tmp/pip-pip-egg-info-tjp1gmc3/keras_invertible.egg-info/PKG-INFO\n",
            "    writing dependency_links to /tmp/pip-pip-egg-info-tjp1gmc3/keras_invertible.egg-info/dependency_links.txt\n",
            "    writing requirements to /tmp/pip-pip-egg-info-tjp1gmc3/keras_invertible.egg-info/requires.txt\n",
            "    writing top-level names to /tmp/pip-pip-egg-info-tjp1gmc3/keras_invertible.egg-info/top_level.txt\n",
            "    writing manifest file '/tmp/pip-pip-egg-info-tjp1gmc3/keras_invertible.egg-info/SOURCES.txt'\n",
            "    writing manifest file '/tmp/pip-pip-egg-info-tjp1gmc3/keras_invertible.egg-info/SOURCES.txt'\n",
            "  Source in /tmp/pip-req-build-n7nziz_3 has version 0.1.1, which satisfies requirement keras-invertible==0.1.1 from git+https://github.com/LanceNorskog/keras-invertible.git\n",
            "  Removed keras-invertible==0.1.1 from git+https://github.com/LanceNorskog/keras-invertible.git from build tracker '/tmp/pip-req-tracker-rd8rdrus'\n",
            "Requirement already satisfied: numpy in /usr/local/lib/python3.7/dist-packages (from keras-invertible==0.1.1) (1.21.6)\n",
            "Requirement already satisfied: tensorflow>=2.0 in /usr/local/lib/python3.7/dist-packages (from keras-invertible==0.1.1) (2.8.2+zzzcolab20220527125636)\n",
            "Requirement already satisfied: flatbuffers>=1.12 in /usr/local/lib/python3.7/dist-packages (from tensorflow>=2.0->keras-invertible==0.1.1) (2.0)\n",
            "Requirement already satisfied: gast>=0.2.1 in /usr/local/lib/python3.7/dist-packages (from tensorflow>=2.0->keras-invertible==0.1.1) (0.5.3)\n",
            "Requirement already satisfied: opt-einsum>=2.3.2 in /usr/local/lib/python3.7/dist-packages (from tensorflow>=2.0->keras-invertible==0.1.1) (3.3.0)\n",
            "Requirement already satisfied: absl-py>=0.4.0 in /usr/local/lib/python3.7/dist-packages (from tensorflow>=2.0->keras-invertible==0.1.1) (1.1.0)\n",
            "Requirement already satisfied: astunparse>=1.6.0 in /usr/local/lib/python3.7/dist-packages (from tensorflow>=2.0->keras-invertible==0.1.1) (1.6.3)\n",
            "Requirement already satisfied: tensorflow-io-gcs-filesystem>=0.23.1 in /usr/local/lib/python3.7/dist-packages (from tensorflow>=2.0->keras-invertible==0.1.1) (0.26.0)\n",
            "Requirement already satisfied: h5py>=2.9.0 in /usr/local/lib/python3.7/dist-packages (from tensorflow>=2.0->keras-invertible==0.1.1) (3.1.0)\n",
            "Requirement already satisfied: typing-extensions>=3.6.6 in /usr/local/lib/python3.7/dist-packages (from tensorflow>=2.0->keras-invertible==0.1.1) (4.1.1)\n",
            "Requirement already satisfied: termcolor>=1.1.0 in /usr/local/lib/python3.7/dist-packages (from tensorflow>=2.0->keras-invertible==0.1.1) (1.1.0)\n",
            "Requirement already satisfied: google-pasta>=0.1.1 in /usr/local/lib/python3.7/dist-packages (from tensorflow>=2.0->keras-invertible==0.1.1) (0.2.0)\n",
            "Requirement already satisfied: keras-preprocessing>=1.1.1 in /usr/local/lib/python3.7/dist-packages (from tensorflow>=2.0->keras-invertible==0.1.1) (1.1.2)\n",
            "Requirement already satisfied: libclang>=9.0.1 in /usr/local/lib/python3.7/dist-packages (from tensorflow>=2.0->keras-invertible==0.1.1) (14.0.1)\n",
            "Requirement already satisfied: setuptools in /usr/local/lib/python3.7/dist-packages (from tensorflow>=2.0->keras-invertible==0.1.1) (57.4.0)\n",
            "Requirement already satisfied: protobuf<3.20,>=3.9.2 in /usr/local/lib/python3.7/dist-packages (from tensorflow>=2.0->keras-invertible==0.1.1) (3.17.3)\n",
            "Requirement already satisfied: tensorboard<2.9,>=2.8 in /usr/local/lib/python3.7/dist-packages (from tensorflow>=2.0->keras-invertible==0.1.1) (2.8.0)\n",
            "Requirement already satisfied: tensorflow-estimator<2.9,>=2.8 in /usr/local/lib/python3.7/dist-packages (from tensorflow>=2.0->keras-invertible==0.1.1) (2.8.0)\n",
            "Requirement already satisfied: wrapt>=1.11.0 in /usr/local/lib/python3.7/dist-packages (from tensorflow>=2.0->keras-invertible==0.1.1) (1.14.1)\n",
            "Requirement already satisfied: six>=1.12.0 in /usr/local/lib/python3.7/dist-packages (from tensorflow>=2.0->keras-invertible==0.1.1) (1.15.0)\n",
            "Requirement already satisfied: keras<2.9,>=2.8.0rc0 in /usr/local/lib/python3.7/dist-packages (from tensorflow>=2.0->keras-invertible==0.1.1) (2.8.0)\n",
            "Requirement already satisfied: grpcio<2.0,>=1.24.3 in /usr/local/lib/python3.7/dist-packages (from tensorflow>=2.0->keras-invertible==0.1.1) (1.46.3)\n",
            "Requirement already satisfied: wheel<1.0,>=0.23.0 in /usr/local/lib/python3.7/dist-packages (from astunparse>=1.6.0->tensorflow>=2.0->keras-invertible==0.1.1) (0.37.1)\n",
            "Requirement already satisfied: cached-property in /usr/local/lib/python3.7/dist-packages (from h5py>=2.9.0->tensorflow>=2.0->keras-invertible==0.1.1) (1.5.2)\n",
            "Requirement already satisfied: google-auth-oauthlib<0.5,>=0.4.1 in /usr/local/lib/python3.7/dist-packages (from tensorboard<2.9,>=2.8->tensorflow>=2.0->keras-invertible==0.1.1) (0.4.6)\n",
            "Requirement already satisfied: tensorboard-plugin-wit>=1.6.0 in /usr/local/lib/python3.7/dist-packages (from tensorboard<2.9,>=2.8->tensorflow>=2.0->keras-invertible==0.1.1) (1.8.1)\n",
            "Requirement already satisfied: google-auth<3,>=1.6.3 in /usr/local/lib/python3.7/dist-packages (from tensorboard<2.9,>=2.8->tensorflow>=2.0->keras-invertible==0.1.1) (1.35.0)\n",
            "Requirement already satisfied: werkzeug>=0.11.15 in /usr/local/lib/python3.7/dist-packages (from tensorboard<2.9,>=2.8->tensorflow>=2.0->keras-invertible==0.1.1) (1.0.1)\n",
            "Requirement already satisfied: markdown>=2.6.8 in /usr/local/lib/python3.7/dist-packages (from tensorboard<2.9,>=2.8->tensorflow>=2.0->keras-invertible==0.1.1) (3.3.7)\n",
            "Requirement already satisfied: tensorboard-data-server<0.7.0,>=0.6.0 in /usr/local/lib/python3.7/dist-packages (from tensorboard<2.9,>=2.8->tensorflow>=2.0->keras-invertible==0.1.1) (0.6.1)\n",
            "Requirement already satisfied: requests<3,>=2.21.0 in /usr/local/lib/python3.7/dist-packages (from tensorboard<2.9,>=2.8->tensorflow>=2.0->keras-invertible==0.1.1) (2.23.0)\n",
            "Requirement already satisfied: cachetools<5.0,>=2.0.0 in /usr/local/lib/python3.7/dist-packages (from google-auth<3,>=1.6.3->tensorboard<2.9,>=2.8->tensorflow>=2.0->keras-invertible==0.1.1) (4.2.4)\n",
            "Requirement already satisfied: rsa<5,>=3.1.4 in /usr/local/lib/python3.7/dist-packages (from google-auth<3,>=1.6.3->tensorboard<2.9,>=2.8->tensorflow>=2.0->keras-invertible==0.1.1) (4.8)\n",
            "Requirement already satisfied: pyasn1-modules>=0.2.1 in /usr/local/lib/python3.7/dist-packages (from google-auth<3,>=1.6.3->tensorboard<2.9,>=2.8->tensorflow>=2.0->keras-invertible==0.1.1) (0.2.8)\n",
            "Requirement already satisfied: requests-oauthlib>=0.7.0 in /usr/local/lib/python3.7/dist-packages (from google-auth-oauthlib<0.5,>=0.4.1->tensorboard<2.9,>=2.8->tensorflow>=2.0->keras-invertible==0.1.1) (1.3.1)\n",
            "Requirement already satisfied: importlib-metadata>=4.4 in /usr/local/lib/python3.7/dist-packages (from markdown>=2.6.8->tensorboard<2.9,>=2.8->tensorflow>=2.0->keras-invertible==0.1.1) (4.11.4)\n",
            "Requirement already satisfied: zipp>=0.5 in /usr/local/lib/python3.7/dist-packages (from importlib-metadata>=4.4->markdown>=2.6.8->tensorboard<2.9,>=2.8->tensorflow>=2.0->keras-invertible==0.1.1) (3.8.0)\n",
            "Requirement already satisfied: pyasn1<0.5.0,>=0.4.6 in /usr/local/lib/python3.7/dist-packages (from pyasn1-modules>=0.2.1->google-auth<3,>=1.6.3->tensorboard<2.9,>=2.8->tensorflow>=2.0->keras-invertible==0.1.1) (0.4.8)\n",
            "Requirement already satisfied: idna<3,>=2.5 in /usr/local/lib/python3.7/dist-packages (from requests<3,>=2.21.0->tensorboard<2.9,>=2.8->tensorflow>=2.0->keras-invertible==0.1.1) (2.10)\n",
            "Requirement already satisfied: chardet<4,>=3.0.2 in /usr/local/lib/python3.7/dist-packages (from requests<3,>=2.21.0->tensorboard<2.9,>=2.8->tensorflow>=2.0->keras-invertible==0.1.1) (3.0.4)\n",
            "Requirement already satisfied: urllib3!=1.25.0,!=1.25.1,<1.26,>=1.21.1 in /usr/local/lib/python3.7/dist-packages (from requests<3,>=2.21.0->tensorboard<2.9,>=2.8->tensorflow>=2.0->keras-invertible==0.1.1) (1.24.3)\n",
            "Requirement already satisfied: certifi>=2017.4.17 in /usr/local/lib/python3.7/dist-packages (from requests<3,>=2.21.0->tensorboard<2.9,>=2.8->tensorflow>=2.0->keras-invertible==0.1.1) (2022.6.15)\n",
            "Requirement already satisfied: oauthlib>=3.0.0 in /usr/local/lib/python3.7/dist-packages (from requests-oauthlib>=0.7.0->google-auth-oauthlib<0.5,>=0.4.1->tensorboard<2.9,>=2.8->tensorflow>=2.0->keras-invertible==0.1.1) (3.2.0)\n",
            "Created temporary directory: /tmp/pip-unpack-jeai803i\n",
            "Value for scheme.platlib does not match. Please report this to <https://github.com/pypa/pip/issues/9617>\n",
            "distutils: /usr/local/lib/python3.7/dist-packages\n",
            "sysconfig: /usr/lib/python3.7/site-packages\n",
            "Value for scheme.purelib does not match. Please report this to <https://github.com/pypa/pip/issues/9617>\n",
            "distutils: /usr/local/lib/python3.7/dist-packages\n",
            "sysconfig: /usr/lib/python3.7/site-packages\n",
            "Value for scheme.headers does not match. Please report this to <https://github.com/pypa/pip/issues/9617>\n",
            "distutils: /usr/local/include/python3.7/UNKNOWN\n",
            "sysconfig: /usr/include/python3.7m/UNKNOWN\n",
            "Value for scheme.scripts does not match. Please report this to <https://github.com/pypa/pip/issues/9617>\n",
            "distutils: /usr/local/bin\n",
            "sysconfig: /usr/bin\n",
            "Value for scheme.data does not match. Please report this to <https://github.com/pypa/pip/issues/9617>\n",
            "distutils: /usr/local\n",
            "sysconfig: /usr\n",
            "Additional context:\n",
            "user = False\n",
            "home = None\n",
            "root = None\n",
            "prefix = None\n",
            "Removed build tracker: '/tmp/pip-req-tracker-rd8rdrus'\n"
          ]
        }
      ]
    },
    {
      "cell_type": "code",
      "source": [
        "# kernel_init='he_normal'\n",
        "# paper_init=keras.initializers.Constant(0.25)\n",
        "# def create_palindromic_model():\n",
        "#     input_img = keras.Input(shape=(784,))\n",
        "#     a = layers.Dense(128, kernel_initializer=kernel_init)\n",
        "#     x = a(input_img)\n",
        "#     x = layers.LeakyReLU(0.25)(x)\n",
        "#     # x = layers.Dropout(0.2)(x)\n",
        "#     b = layers.Dense(64, kernel_initializer=kernel_init)\n",
        "#     x = b(x)\n",
        "#     x = layers.LeakyReLU(0.25)(x)\n",
        "#     c = layers.Dense(32, kernel_initializer=kernel_init)\n",
        "#     x = c(x)\n",
        "#     x = layers.LeakyReLU(0.25)(x)\n",
        "\n",
        "#     x = InvertedLeakyReLU(0.25)(x)\n",
        "#     x = InvertedDensePI(c)(x)\n",
        "#     x = InvertedLeakyReLU(0.25)(x)\n",
        "#     x = InvertedDensePI(b)(x)\n",
        "#     x = InvertedLeakyReLU(0.25)(x)\n",
        "#     x = InvertedDensePI(a)(x)\n",
        "#     x = layers.Activation(activation='sigmoid')(x)\n",
        "\n",
        "#     autoencoder = keras.Model(input_img, x)\n",
        "#     autoencoder.compile(optimizer='adam', loss='binary_crossentropy')\n",
        "#     autoencoder.summary()\n",
        "#     return autoencoder\n"
      ],
      "metadata": {
        "id": "ZVpLJHQEpDwO"
      },
      "execution_count": null,
      "outputs": []
    },
    {
      "cell_type": "code",
      "source": [
        "kernel_init='he_normal'\n",
        "\n",
        "def set_pinv(model, base, pi_base):\n",
        "    for layer in model.layers:\n",
        "        if layer.name == base:\n",
        "            dense = layer\n",
        "        elif layer.name == pi_base:\n",
        "            pi_dense = layer\n",
        "        \n",
        "    weights = dense.get_weights()\n",
        "    print(len(weights))\n",
        "    W = weights[0]\n",
        "    print(type(W))\n",
        "    print('W.shape', W.shape)\n",
        "    # print('b.shape', b.shape)\n",
        "    inv_weights = pi_dense.get_weights()\n",
        "    print('inv_W.shape', inv_weights[0].shape)\n",
        "    inv_W = np.linalg.pinv(W)\n",
        "    # inv_b = -b\n",
        "    pi_dense.set_weights([inv_W])\n",
        "\n",
        "def create_palindromic_model():\n",
        "    input_img = keras.Input(shape=(784,))\n",
        "    a = layers.Dense(128, kernel_initializer=kernel_init, name='a')\n",
        "    x = a(input_img)\n",
        "    x = layers.LeakyReLU(0.25)(x)\n",
        "    # x = layers.Dropout(0.2)(x)\n",
        "    b = layers.Dense(64, kernel_initializer=kernel_init, name='b')\n",
        "    x = b(x)\n",
        "    x = layers.LeakyReLU(0.25)(x)\n",
        "    c = layers.Dense(32, kernel_initializer=kernel_init, name='c')\n",
        "    x = c(x)\n",
        "    x = layers.LeakyReLU(0.25)(x)\n",
        "\n",
        "    x = InvertedLeakyReLU(0.25)(x)\n",
        "    x = InvertedBias(c)(x)\n",
        "    x = layers.Dense(64, use_bias=False, name='pi_c')(x)\n",
        "    x = InvertedLeakyReLU(0.25)(x)\n",
        "    x = InvertedBias(b)(x)\n",
        "    x = layers.Dense(128, use_bias=False, name='pi_b')(x)\n",
        "    x = InvertedLeakyReLU(0.25)(x)\n",
        "    x = InvertedBias(a)(x)\n",
        "    x = layers.Dense(784, use_bias=False, name='pi_a')(x)\n",
        "    x = layers.Activation(activation='sigmoid')(x)\n",
        "\n",
        "    autoencoder = keras.Model(input_img, x)\n",
        "    autoencoder.compile(optimizer='adam', loss='binary_crossentropy')\n",
        "    autoencoder.summary()\n",
        "    set_pinv(autoencoder, 'a', 'pi_a')\n",
        "    return autoencoder\n"
      ],
      "metadata": {
        "id": "mbzCIvFY54cy"
      },
      "execution_count": null,
      "outputs": []
    },
    {
      "cell_type": "code",
      "source": [
        "num_epochs = 30\n",
        "autoencoder = create_palindromic_model()\n",
        "\n",
        "autoencoder.fit(x_train, x_train,\n",
        "                epochs=num_epochs,\n",
        "                batch_size=256,\n",
        "                shuffle=True,\n",
        "                validation_data=(x_test, x_test))\n"
      ],
      "metadata": {
        "colab": {
          "base_uri": "https://localhost:8080/"
        },
        "id": "y8AHMi-ttlDJ",
        "outputId": "70cfb907-f888-4473-d708-6334b7b18bac"
      },
      "execution_count": null,
      "outputs": [
        {
          "output_type": "stream",
          "name": "stdout",
          "text": [
            "Model: \"model\"\n",
            "_________________________________________________________________\n",
            " Layer (type)                Output Shape              Param #   \n",
            "=================================================================\n",
            " input_1 (InputLayer)        [(None, 784)]             0         \n",
            "                                                                 \n",
            " a (Dense)                   (None, 128)               100480    \n",
            "                                                                 \n",
            " leaky_re_lu (LeakyReLU)     (None, 128)               0         \n",
            "                                                                 \n",
            " b (Dense)                   (None, 64)                8256      \n",
            "                                                                 \n",
            " leaky_re_lu_1 (LeakyReLU)   (None, 64)                0         \n",
            "                                                                 \n",
            " c (Dense)                   (None, 32)                2080      \n",
            "                                                                 \n",
            " leaky_re_lu_2 (LeakyReLU)   (None, 32)                0         \n",
            "                                                                 \n",
            " inverted_leaky_re_lu (Inver  (None, 32)               0         \n",
            " tedLeakyReLU)                                                   \n",
            "                                                                 \n",
            " inverted_bias (InvertedBias  (None, 32)               2080      \n",
            " )                                                               \n",
            "                                                                 \n",
            " pi_c (Dense)                (None, 64)                2048      \n",
            "                                                                 \n",
            " inverted_leaky_re_lu_1 (Inv  (None, 64)               0         \n",
            " ertedLeakyReLU)                                                 \n",
            "                                                                 \n",
            " inverted_bias_1 (InvertedBi  (None, 64)               8256      \n",
            " as)                                                             \n",
            "                                                                 \n",
            " pi_b (Dense)                (None, 128)               8192      \n",
            "                                                                 \n",
            " inverted_leaky_re_lu_2 (Inv  (None, 128)              0         \n",
            " ertedLeakyReLU)                                                 \n",
            "                                                                 \n",
            " inverted_bias_2 (InvertedBi  (None, 128)              100480    \n",
            " as)                                                             \n",
            "                                                                 \n",
            " pi_a (Dense)                (None, 784)               100352    \n",
            "                                                                 \n",
            " activation (Activation)     (None, 784)               0         \n",
            "                                                                 \n",
            "=================================================================\n",
            "Total params: 221,408\n",
            "Trainable params: 221,408\n",
            "Non-trainable params: 0\n",
            "_________________________________________________________________\n",
            "2\n",
            "<class 'numpy.ndarray'>\n",
            "W.shape (784, 128)\n",
            "inv_W.shape (128, 784)\n",
            "Epoch 1/30\n",
            "235/235 [==============================] - 6s 21ms/step - loss: 0.2253 - val_loss: 0.1578\n",
            "Epoch 2/30\n",
            "235/235 [==============================] - 8s 32ms/step - loss: 0.1429 - val_loss: 0.1286\n",
            "Epoch 3/30\n",
            "235/235 [==============================] - 8s 35ms/step - loss: 0.1234 - val_loss: 0.1160\n",
            "Epoch 4/30\n",
            "235/235 [==============================] - 6s 27ms/step - loss: 0.1140 - val_loss: 0.1090\n",
            "Epoch 5/30\n",
            "235/235 [==============================] - 4s 18ms/step - loss: 0.1082 - val_loss: 0.1050\n",
            "Epoch 6/30\n",
            "235/235 [==============================] - 4s 18ms/step - loss: 0.1046 - val_loss: 0.1019\n",
            "Epoch 7/30\n",
            "235/235 [==============================] - 4s 18ms/step - loss: 0.1021 - val_loss: 0.1000\n",
            "Epoch 8/30\n",
            "235/235 [==============================] - 4s 18ms/step - loss: 0.1001 - val_loss: 0.0981\n",
            "Epoch 9/30\n",
            "235/235 [==============================] - 4s 18ms/step - loss: 0.0985 - val_loss: 0.0965\n",
            "Epoch 10/30\n",
            "235/235 [==============================] - 4s 18ms/step - loss: 0.0969 - val_loss: 0.0950\n",
            "Epoch 11/30\n",
            "235/235 [==============================] - 4s 18ms/step - loss: 0.0955 - val_loss: 0.0940\n",
            "Epoch 12/30\n",
            "235/235 [==============================] - 4s 18ms/step - loss: 0.0943 - val_loss: 0.0925\n",
            "Epoch 13/30\n",
            "235/235 [==============================] - 4s 18ms/step - loss: 0.0932 - val_loss: 0.0919\n",
            "Epoch 14/30\n",
            "235/235 [==============================] - 4s 18ms/step - loss: 0.0923 - val_loss: 0.0911\n",
            "Epoch 15/30\n",
            "235/235 [==============================] - 4s 18ms/step - loss: 0.0915 - val_loss: 0.0905\n",
            "Epoch 16/30\n",
            "235/235 [==============================] - 4s 18ms/step - loss: 0.0908 - val_loss: 0.0897\n",
            "Epoch 17/30\n",
            "235/235 [==============================] - 4s 18ms/step - loss: 0.0902 - val_loss: 0.0892\n",
            "Epoch 18/30\n",
            "235/235 [==============================] - 4s 18ms/step - loss: 0.0897 - val_loss: 0.0886\n",
            "Epoch 19/30\n",
            "235/235 [==============================] - 5s 23ms/step - loss: 0.0892 - val_loss: 0.0884\n",
            "Epoch 20/30\n",
            "235/235 [==============================] - 4s 18ms/step - loss: 0.0887 - val_loss: 0.0879\n",
            "Epoch 21/30\n",
            "235/235 [==============================] - 4s 18ms/step - loss: 0.0883 - val_loss: 0.0875\n",
            "Epoch 22/30\n",
            "235/235 [==============================] - 4s 18ms/step - loss: 0.0879 - val_loss: 0.0871\n",
            "Epoch 23/30\n",
            "235/235 [==============================] - 4s 18ms/step - loss: 0.0876 - val_loss: 0.0869\n",
            "Epoch 24/30\n",
            "235/235 [==============================] - 4s 18ms/step - loss: 0.0872 - val_loss: 0.0864\n",
            "Epoch 25/30\n",
            "235/235 [==============================] - 5s 23ms/step - loss: 0.0869 - val_loss: 0.0861\n",
            "Epoch 26/30\n",
            "235/235 [==============================] - 4s 18ms/step - loss: 0.0866 - val_loss: 0.0859\n",
            "Epoch 27/30\n",
            "235/235 [==============================] - 4s 18ms/step - loss: 0.0863 - val_loss: 0.0856\n",
            "Epoch 28/30\n",
            "235/235 [==============================] - 4s 18ms/step - loss: 0.0861 - val_loss: 0.0855\n",
            "Epoch 29/30\n",
            "235/235 [==============================] - 4s 18ms/step - loss: 0.0859 - val_loss: 0.0854\n",
            "Epoch 30/30\n",
            "235/235 [==============================] - 4s 18ms/step - loss: 0.0856 - val_loss: 0.0850\n"
          ]
        },
        {
          "output_type": "execute_result",
          "data": {
            "text/plain": [
              "<keras.callbacks.History at 0x7fd1431dfe50>"
            ]
          },
          "metadata": {},
          "execution_count": 9
        }
      ]
    },
    {
      "cell_type": "code",
      "source": [
        "\n",
        "predicted_imgs = autoencoder.predict(x_test)\n",
        "# decoded_imgs = autoencoder.predict(encoded_imgs)"
      ],
      "metadata": {
        "id": "tnogr4ppuxl2"
      },
      "execution_count": null,
      "outputs": []
    },
    {
      "cell_type": "code",
      "source": [
        "# Use Matplotlib (don't ask)\n",
        "import matplotlib.pyplot as plt\n",
        "\n",
        "n = 10  # How many digits we will display\n",
        "plt.figure(figsize=(20, 4))\n",
        "for i in range(n):\n",
        "    # Display original\n",
        "    ax = plt.subplot(2, n, i + 1)\n",
        "    plt.imshow(x_test[i].reshape(28, 28))\n",
        "    plt.gray()\n",
        "    ax.get_xaxis().set_visible(False)\n",
        "    ax.get_yaxis().set_visible(False)\n",
        "\n",
        "    # Display reconstruction\n",
        "    ax = plt.subplot(2, n, i + 1 + n)\n",
        "    plt.imshow(predicted_imgs[i].reshape(28, 28))\n",
        "    plt.gray()\n",
        "    ax.get_xaxis().set_visible(False)\n",
        "    ax.get_yaxis().set_visible(False)\n",
        "plt.show()\n"
      ],
      "metadata": {
        "id": "UXO0OBW3CNYF",
        "colab": {
          "base_uri": "https://localhost:8080/",
          "height": 248
        },
        "outputId": "0c942efc-88b4-4bb9-cf3a-aaffec5d0ae0"
      },
      "execution_count": null,
      "outputs": [
        {
          "output_type": "display_data",
          "data": {
            "text/plain": [
              "<Figure size 1440x288 with 20 Axes>"
            ],
            "image/png": "[encoded data removed]"
          },
          "metadata": {
            "needs_background": "light"
          }
        }
      ]
    },
    {
      "cell_type": "code",
      "source": [
        "def get_pair(model, base, pi_base):\n",
        "    for layer in model.layers:\n",
        "        if layer.name == base:\n",
        "            dense = layer\n",
        "        elif layer.name == pi_base:\n",
        "            pi_dense = layer\n",
        "        \n",
        "    weights = dense.get_weights()\n",
        "    print(len(weights))\n",
        "    W = weights[0]\n",
        "    print(type(W))\n",
        "    print('W.shape', W.shape)\n",
        "    # print('b.shape', b.shape)\n",
        "    inv_weights = pi_dense.get_weights()\n",
        "    print('inv_W.shape', inv_weights[0].shape)\n",
        "    return W, inv_weights[0]\n",
        "\n",
        "(a, inv_a) = get_pair(autoencoder, 'a', 'pi_a')\n",
        "print(a.shape)\n",
        "print(inv_a.shape)\n",
        "gram = np.matmul(a, inv_a)\n",
        "print(gram.shape)\n",
        "print(np.linalg.det(gram))\n",
        "\n",
        "(c, inv_c) = get_pair(autoencoder, 'c', 'pi_c')\n",
        "print(c.shape)\n",
        "print(inv_c.shape)\n",
        "gram = np.matmul(inv_c, c)\n",
        "print(gram.shape)\n",
        "print(np.linalg.det(gram))\n",
        "\n",
        "print(gram)"
      ],
      "metadata": {
        "id": "OczYkz9SoVJ2",
        "colab": {
          "base_uri": "https://localhost:8080/"
        },
        "outputId": "e1a2864e-ec38-4345-b1cb-b4d5e2b937e9"
      },
      "execution_count": null,
      "outputs": [
        {
          "output_type": "stream",
          "name": "stdout",
          "text": [
            "2\n",
            "<class 'numpy.ndarray'>\n",
            "W.shape (784, 128)\n",
            "inv_W.shape (128, 784)\n",
            "(784, 128)\n",
            "(128, 784)\n",
            "(784, 784)\n",
            "0.0\n",
            "2\n",
            "<class 'numpy.ndarray'>\n",
            "W.shape (64, 32)\n",
            "inv_W.shape (32, 64)\n",
            "(64, 32)\n",
            "(32, 64)\n",
            "(32, 32)\n",
            "-28.12747\n",
            "[[ 0.05150329 -0.15050215  0.51279116 ...  0.45988894  0.33783948\n",
            "  -0.12213998]\n",
            " [-0.03733197 -0.353104    0.36968443 ...  0.6305652  -0.29074305\n",
            "  -0.296542  ]\n",
            " [-0.24380706  0.15550894 -0.01287061 ... -0.5409992   0.3126014\n",
            "  -0.29716858]\n",
            " ...\n",
            " [-0.2402599   0.43249375 -0.6957713  ... -0.1951999  -0.33454466\n",
            "  -0.18841293]\n",
            " [ 0.08877896  0.06874514 -0.42993423 ...  0.41592747 -0.02911106\n",
            "   0.3118027 ]\n",
            " [-0.23711295 -0.00164801  0.15618247 ...  0.30086982 -0.50485873\n",
            "  -0.13383007]]\n"
          ]
        }
      ]
    },
    {
      "cell_type": "code",
      "source": [
        ""
      ],
      "metadata": {
        "id": "UcB7y7RUDexY"
      },
      "execution_count": null,
      "outputs": []
    }
  ]
}